{
  "nbformat": 4,
  "nbformat_minor": 0,
  "metadata": {
    "colab": {
      "name": "NLP.ipynb",
      "provenance": [],
      "collapsed_sections": []
    },
    "kernelspec": {
      "name": "python3",
      "display_name": "Python 3"
    },
    "accelerator": "GPU"
  },
  "cells": [
    {
      "cell_type": "code",
      "metadata": {
        "id": "JdaKipnnDy_z",
        "colab_type": "code",
        "colab": {
          "base_uri": "https://localhost:8080/",
          "height": 219
        },
        "outputId": "aa6a08e8-e510-4a67-8079-c48cbe0c279c"
      },
      "source": [
        "#install library kaggle untuk download dataset\n",
        "!pip install kaggle\n"
      ],
      "execution_count": 102,
      "outputs": [
        {
          "output_type": "stream",
          "text": [
            "Requirement already satisfied: kaggle in /usr/local/lib/python3.6/dist-packages (1.5.6)\n",
            "Requirement already satisfied: tqdm in /usr/local/lib/python3.6/dist-packages (from kaggle) (4.41.1)\n",
            "Requirement already satisfied: python-dateutil in /usr/local/lib/python3.6/dist-packages (from kaggle) (2.8.1)\n",
            "Requirement already satisfied: python-slugify in /usr/local/lib/python3.6/dist-packages (from kaggle) (4.0.1)\n",
            "Requirement already satisfied: certifi in /usr/local/lib/python3.6/dist-packages (from kaggle) (2020.6.20)\n",
            "Requirement already satisfied: requests in /usr/local/lib/python3.6/dist-packages (from kaggle) (2.23.0)\n",
            "Requirement already satisfied: six>=1.10 in /usr/local/lib/python3.6/dist-packages (from kaggle) (1.15.0)\n",
            "Requirement already satisfied: urllib3<1.25,>=1.21.1 in /usr/local/lib/python3.6/dist-packages (from kaggle) (1.24.3)\n",
            "Requirement already satisfied: text-unidecode>=1.3 in /usr/local/lib/python3.6/dist-packages (from python-slugify->kaggle) (1.3)\n",
            "Requirement already satisfied: chardet<4,>=3.0.2 in /usr/local/lib/python3.6/dist-packages (from requests->kaggle) (3.0.4)\n",
            "Requirement already satisfied: idna<3,>=2.5 in /usr/local/lib/python3.6/dist-packages (from requests->kaggle) (2.10)\n"
          ],
          "name": "stdout"
        }
      ]
    },
    {
      "cell_type": "code",
      "metadata": {
        "id": "paMHsyksoUGw",
        "colab_type": "code",
        "colab": {
          "base_uri": "https://localhost:8080/",
          "height": 54
        },
        "outputId": "ec9f9c31-1006-456f-b7a6-3deffcedcff4"
      },
      "source": [
        "#buat directory .kaggle\n",
        "!mkdir .kaggle\n",
        "!ls -a\n"
      ],
      "execution_count": 103,
      "outputs": [
        {
          "output_type": "stream",
          "text": [
            "mkdir: cannot create directory ‘.kaggle’: File exists\n",
            ".  ..  .config\t.kaggle  model.png  sample_data\n"
          ],
          "name": "stdout"
        }
      ]
    },
    {
      "cell_type": "code",
      "metadata": {
        "id": "getNv6Jwo2Bp",
        "colab_type": "code",
        "colab": {
          "base_uri": "https://localhost:8080/",
          "height": 35
        },
        "outputId": "7d042fd7-42ae-4f4d-a497-48f577c92fce"
      },
      "source": [
        "#buat token untuk bisa akses download dataset\n",
        "import json, os\n",
        "token = {\"username\":\"donodanar35\",\"key\":\"92c113ad1a2fdabc92ea0f3fe5666e90\"}\n",
        "\n",
        "with open('/content/.kaggle/kaggle.json', 'w') as file:\n",
        "    json.dump(token, file)\n",
        "\n",
        "!chmod 600 /content/.kaggle/kaggle.json\n",
        "!cp /content/.kaggle/kaggle.json ~/.kaggle/kaggle.json\n",
        "\n",
        "os.listdir('.kaggle/')\n",
        "!kaggle config set -n path -v{/content}"
      ],
      "execution_count": 104,
      "outputs": [
        {
          "output_type": "stream",
          "text": [
            "- path is now set to: {/content}\n"
          ],
          "name": "stdout"
        }
      ]
    },
    {
      "cell_type": "code",
      "metadata": {
        "id": "kAO5F4L1riYU",
        "colab_type": "code",
        "colab": {
          "base_uri": "https://localhost:8080/",
          "height": 35
        },
        "outputId": "14b7f617-7394-468c-a52e-c040f390093e"
      },
      "source": [
        "#download dataset IMDB - dataset yang berisi review film dengan 50K data dan 2 sentimen (positif dan negatif)\n",
        "!kaggle datasets download -d columbine/imdb-dataset-sentiment-analysis-in-csv-format -p /tmp"
      ],
      "execution_count": 105,
      "outputs": [
        {
          "output_type": "stream",
          "text": [
            "imdb-dataset-sentiment-analysis-in-csv-format.zip: Skipping, found more recently modified local copy (use --force to force download)\n"
          ],
          "name": "stdout"
        }
      ]
    },
    {
      "cell_type": "code",
      "metadata": {
        "id": "vsHEOMW8hz43",
        "colab_type": "code",
        "colab": {
          "base_uri": "https://localhost:8080/",
          "height": 146
        },
        "outputId": "7648b382-669c-45a7-f961-73871ff9426b"
      },
      "source": [
        "import zipfile,os\n",
        "local_zip = '/tmp/imdb-dataset-sentiment-analysis-in-csv-format.zip'\n",
        "zip_ref = zipfile.ZipFile(local_zip, 'r')\n",
        "\n",
        "#ekstra dataset file zip ke destinasi /tmp\n",
        "zip_ref.extractall('/tmp')\n",
        "zip_ref.close()\n",
        "\n",
        "os.listdir('/tmp')"
      ],
      "execution_count": 106,
      "outputs": [
        {
          "output_type": "execute_result",
          "data": {
            "text/plain": [
              "['tmp3ri0a1xr.py',\n",
              " 'Train.csv',\n",
              " 'imdb-dataset-sentiment-analysis-in-csv-format.zip',\n",
              " 'Test.csv',\n",
              " 'tmpajl4yywv.py',\n",
              " 'Valid.csv',\n",
              " '__pycache__']"
            ]
          },
          "metadata": {
            "tags": []
          },
          "execution_count": 106
        }
      ]
    },
    {
      "cell_type": "code",
      "metadata": {
        "id": "ltcdfLVqsZJN",
        "colab_type": "code",
        "colab": {
          "base_uri": "https://localhost:8080/",
          "height": 424
        },
        "outputId": "4d89d338-d690-4f45-c71b-f7a7b629e60f"
      },
      "source": [
        "#baca dataset IMB menggunakan dataframe pandas\n",
        "import pandas as pd\n",
        "\n",
        "df = pd.read_csv('/tmp/Train.csv', names=['text', 'label'], sep=',')\n",
        "df = df.drop(0)\n",
        "df"
      ],
      "execution_count": 107,
      "outputs": [
        {
          "output_type": "execute_result",
          "data": {
            "text/html": [
              "<div>\n",
              "<style scoped>\n",
              "    .dataframe tbody tr th:only-of-type {\n",
              "        vertical-align: middle;\n",
              "    }\n",
              "\n",
              "    .dataframe tbody tr th {\n",
              "        vertical-align: top;\n",
              "    }\n",
              "\n",
              "    .dataframe thead th {\n",
              "        text-align: right;\n",
              "    }\n",
              "</style>\n",
              "<table border=\"1\" class=\"dataframe\">\n",
              "  <thead>\n",
              "    <tr style=\"text-align: right;\">\n",
              "      <th></th>\n",
              "      <th>text</th>\n",
              "      <th>label</th>\n",
              "    </tr>\n",
              "  </thead>\n",
              "  <tbody>\n",
              "    <tr>\n",
              "      <th>1</th>\n",
              "      <td>I grew up (b. 1965) watching and loving the Th...</td>\n",
              "      <td>0</td>\n",
              "    </tr>\n",
              "    <tr>\n",
              "      <th>2</th>\n",
              "      <td>When I put this movie in my DVD player, and sa...</td>\n",
              "      <td>0</td>\n",
              "    </tr>\n",
              "    <tr>\n",
              "      <th>3</th>\n",
              "      <td>Why do people who do not know what a particula...</td>\n",
              "      <td>0</td>\n",
              "    </tr>\n",
              "    <tr>\n",
              "      <th>4</th>\n",
              "      <td>Even though I have great interest in Biblical ...</td>\n",
              "      <td>0</td>\n",
              "    </tr>\n",
              "    <tr>\n",
              "      <th>5</th>\n",
              "      <td>Im a die hard Dads Army fan and nothing will e...</td>\n",
              "      <td>1</td>\n",
              "    </tr>\n",
              "    <tr>\n",
              "      <th>...</th>\n",
              "      <td>...</td>\n",
              "      <td>...</td>\n",
              "    </tr>\n",
              "    <tr>\n",
              "      <th>39996</th>\n",
              "      <td>\"Western Union\" is something of a forgotten cl...</td>\n",
              "      <td>1</td>\n",
              "    </tr>\n",
              "    <tr>\n",
              "      <th>39997</th>\n",
              "      <td>This movie is an incredible piece of work. It ...</td>\n",
              "      <td>1</td>\n",
              "    </tr>\n",
              "    <tr>\n",
              "      <th>39998</th>\n",
              "      <td>My wife and I watched this movie because we pl...</td>\n",
              "      <td>0</td>\n",
              "    </tr>\n",
              "    <tr>\n",
              "      <th>39999</th>\n",
              "      <td>When I first watched Flatliners, I was amazed....</td>\n",
              "      <td>1</td>\n",
              "    </tr>\n",
              "    <tr>\n",
              "      <th>40000</th>\n",
              "      <td>Why would this film be so good, but only gross...</td>\n",
              "      <td>1</td>\n",
              "    </tr>\n",
              "  </tbody>\n",
              "</table>\n",
              "<p>40000 rows × 2 columns</p>\n",
              "</div>"
            ],
            "text/plain": [
              "                                                    text label\n",
              "1      I grew up (b. 1965) watching and loving the Th...     0\n",
              "2      When I put this movie in my DVD player, and sa...     0\n",
              "3      Why do people who do not know what a particula...     0\n",
              "4      Even though I have great interest in Biblical ...     0\n",
              "5      Im a die hard Dads Army fan and nothing will e...     1\n",
              "...                                                  ...   ...\n",
              "39996  \"Western Union\" is something of a forgotten cl...     1\n",
              "39997  This movie is an incredible piece of work. It ...     1\n",
              "39998  My wife and I watched this movie because we pl...     0\n",
              "39999  When I first watched Flatliners, I was amazed....     1\n",
              "40000  Why would this film be so good, but only gross...     1\n",
              "\n",
              "[40000 rows x 2 columns]"
            ]
          },
          "metadata": {
            "tags": []
          },
          "execution_count": 107
        }
      ]
    },
    {
      "cell_type": "code",
      "metadata": {
        "id": "sr63l938_cpP",
        "colab_type": "code",
        "colab": {
          "base_uri": "https://localhost:8080/",
          "height": 182
        },
        "outputId": "02789b2f-bdfb-4b11-d34b-bd67eefbbe03"
      },
      "source": [
        "df.info()"
      ],
      "execution_count": 108,
      "outputs": [
        {
          "output_type": "stream",
          "text": [
            "<class 'pandas.core.frame.DataFrame'>\n",
            "Int64Index: 40000 entries, 1 to 40000\n",
            "Data columns (total 2 columns):\n",
            " #   Column  Non-Null Count  Dtype \n",
            "---  ------  --------------  ----- \n",
            " 0   text    40000 non-null  object\n",
            " 1   label   40000 non-null  object\n",
            "dtypes: object(2)\n",
            "memory usage: 937.5+ KB\n"
          ],
          "name": "stdout"
        }
      ]
    },
    {
      "cell_type": "code",
      "metadata": {
        "id": "Bcm26YU81YQ4",
        "colab_type": "code",
        "colab": {}
      },
      "source": [
        "from sklearn.model_selection import train_test_split\n",
        "\n",
        "#pisahkan dataset training dan dataset validation sebenar 80% dan 20%\n",
        "review = df['text'].values\n",
        "y = df['label'].values\n",
        "review_latih, review_val, y_latih, y_val = train_test_split(review, y, test_size=0.2)\n"
      ],
      "execution_count": 109,
      "outputs": []
    },
    {
      "cell_type": "code",
      "metadata": {
        "id": "53s8hm1T1wf0",
        "colab_type": "code",
        "colab": {}
      },
      "source": [
        "from tensorflow.keras.preprocessing.text import Tokenizer\n",
        "from tensorflow.keras.preprocessing.sequence import pad_sequences\n",
        "import numpy as np\n",
        "     \n",
        "#lakukan tokenisasi\n",
        "tokenizer = Tokenizer(num_words=500, oov_token='-')\n",
        "tokenizer.fit_on_texts(review_latih) \n",
        "tokenizer.fit_on_texts(review_val)\n",
        "\n",
        "#lakukan sequence     \n",
        "sekuens_latih = tokenizer.texts_to_sequences(review_latih)\n",
        "sekuens_val = tokenizer.texts_to_sequences(review_val)\n",
        "     \n",
        "padded_latih = pad_sequences(sekuens_latih, padding='post', maxlen=300,truncating='post') \n",
        "padded_val = pad_sequences(sekuens_val, padding='post', maxlen=300,truncating='post')\n",
        "\n",
        "#convert dataset label (y) menjadi float biar bisa dibaca tensorflow\n",
        "y_latih = np.asarray(y_latih).astype('float').reshape((-1,1))\n",
        "y_val = np.asarray(y_val).astype('float').reshape((-1,1))"
      ],
      "execution_count": 110,
      "outputs": []
    },
    {
      "cell_type": "code",
      "metadata": {
        "id": "tvTTuTPe6Roc",
        "colab_type": "code",
        "colab": {
          "base_uri": "https://localhost:8080/",
          "height": 35
        },
        "outputId": "ad6cb2c8-0951-4380-d573-4110982034f3"
      },
      "source": [
        "y_latih[100]"
      ],
      "execution_count": 111,
      "outputs": [
        {
          "output_type": "execute_result",
          "data": {
            "text/plain": [
              "array([0.])"
            ]
          },
          "metadata": {
            "tags": []
          },
          "execution_count": 111
        }
      ]
    },
    {
      "cell_type": "code",
      "metadata": {
        "id": "Itjf50hP7FB4",
        "colab_type": "code",
        "colab": {
          "base_uri": "https://localhost:8080/",
          "height": 458
        },
        "outputId": "0c067768-9ca8-4150-8751-2d771404c3b0"
      },
      "source": [
        "padded_latih[100]"
      ],
      "execution_count": 112,
      "outputs": [
        {
          "output_type": "execute_result",
          "data": {
            "text/plain": [
              "array([  4,   1,   1,   7,   1,  18, 397,   1,   9,  33,   1,   6,   1,\n",
              "         2, 396, 397, 110,  25, 160,  46,  93,  10,   6,   2, 223, 117,\n",
              "        29,  68, 188,   4, 397,   1,   3,   1,  95,   1,   6,  13,   5,\n",
              "        33,   1,   1,   4, 172, 484,  25,   1,   1,   7,   4,   1,   1,\n",
              "        19, 488, 286,  37,   2,   1,   1,   1,   1,   6,   2, 271,   1,\n",
              "         1,   8,   8,   1,   1,  32,   1,   2,  20,  22,  24,  42,   6,\n",
              "        64,   7,  23,  30,   1,   1,  10,   7, 443,   1,   1,   1,  61,\n",
              "         1,   1,  16,   1,   1,   1,   2,   1,  10,  99,  27,   4,   1,\n",
              "         1,  39,   1,   1,   6,   1,   1,   1,   1,   1, 203,   3,   1,\n",
              "         1,   1,   1, 309,  31,   4,   1,  18,   1,   1,   8,   8,  88,\n",
              "        74,  64,   1,   1,  15,   1,   1,   1,   1,   4,   1,   3,   1,\n",
              "         1, 104,  13,   1, 296,   4,   1, 479,  29,   1,   4,   1, 436,\n",
              "         1, 308,   2,   1,   1, 347,  29,   1,  10,   7,   1,   3,   1,\n",
              "         6,   1,   2, 115,   5,  28,   5,   2,   1,   1,   6,  25,   1,\n",
              "         1,   5,   1,   1,  49,  12,  63,   1, 175,   6,   7,  13,   1,\n",
              "         1,  33,   1,   1,   6,   1,   2,   1,  35,  13,  10,  68,   1,\n",
              "         1,   2,   1,   1,   2,   1,   1,  28,   1,   6,   1,   1,   1,\n",
              "         3,   7,   1, 124,  15,  95, 430,   8,   8,   1, 463,  18,  25,\n",
              "         1,   9,   1,   1,   1,  15,   1,   1, 237,  25, 326,   1,  79,\n",
              "         4,   1,   1,   9, 161,   1,   1,   1,   1, 185,  51,   1,   1,\n",
              "        42,   1, 328,  73,   1,  36,   1,   2,   1,  13,   1,  25, 326,\n",
              "       178,   1,   6,  76,   1,  52,   1,   1, 277,  33,   1,   1, 227,\n",
              "         1, 100,   1,   1,  92,   1,   1,   6, 359,  25,   1,   1,   1,\n",
              "        21], dtype=int32)"
            ]
          },
          "metadata": {
            "tags": []
          },
          "execution_count": 112
        }
      ]
    },
    {
      "cell_type": "code",
      "metadata": {
        "id": "esIbNb5c2J7s",
        "colab_type": "code",
        "colab": {
          "base_uri": "https://localhost:8080/",
          "height": 503
        },
        "outputId": "4b2d4e9b-0c6d-4cf3-d528-330a5c01e264"
      },
      "source": [
        "import tensorflow as tf\n",
        "\n",
        "#bangun model\n",
        "n = len(tokenizer.word_index)\n",
        "model = tf.keras.Sequential([\n",
        "        tf.keras.layers.Embedding(input_dim=n, output_dim=16),\n",
        "        tf.keras.layers.LSTM(64),\n",
        "        tf.keras.layers.Flatten(),\n",
        "        tf.keras.layers.Dense(256, activation='relu'),\n",
        "        tf.keras.layers.Dropout(0.2),\n",
        "        tf.keras.layers.Dense(128, activation='relu'),\n",
        "        tf.keras.layers.Dense(1, activation='sigmoid') #gunakan activation sigmoid untuk 2 kelas data \n",
        "])\n",
        "\n",
        "model.compile(loss='binary_crossentropy',\n",
        "              optimizer=tf.optimizers.Adam(),\n",
        "              metrics=['accuracy'])\n",
        "\n",
        "#buat visualisasi model\n",
        "model_visual = tf.keras.utils.plot_model(model,\n",
        "                          to_file='model.png',\n",
        "                          show_shapes=True,\n",
        "                          show_layer_names=True,\n",
        "                          rankdir='TB',\n",
        "                          expand_nested=True,\n",
        "                          dpi=55)\n",
        "model_visual"
      ],
      "execution_count": 113,
      "outputs": [
        {
          "output_type": "execute_result",
          "data": {
            "image/png": "[encoded data removed]",
            "text/plain": [
              "<IPython.core.display.Image object>"
            ]
          },
          "metadata": {
            "tags": []
          },
          "execution_count": 113
        }
      ]
    },
    {
      "cell_type": "code",
      "metadata": {
        "id": "JqsOVhJm-MW6",
        "colab_type": "code",
        "colab": {
          "base_uri": "https://localhost:8080/",
          "height": 421
        },
        "outputId": "0ac93d59-cca4-4a84-9d5a-d37255b96cbc"
      },
      "source": [
        "#buat ringkasan model\n",
        "model.summary()"
      ],
      "execution_count": 114,
      "outputs": [
        {
          "output_type": "stream",
          "text": [
            "Model: \"sequential_16\"\n",
            "_________________________________________________________________\n",
            "Layer (type)                 Output Shape              Param #   \n",
            "=================================================================\n",
            "embedding_16 (Embedding)     (None, None, 16)          1795264   \n",
            "_________________________________________________________________\n",
            "lstm_16 (LSTM)               (None, 64)                20736     \n",
            "_________________________________________________________________\n",
            "flatten_3 (Flatten)          (None, 64)                0         \n",
            "_________________________________________________________________\n",
            "dense_57 (Dense)             (None, 256)               16640     \n",
            "_________________________________________________________________\n",
            "dropout_15 (Dropout)         (None, 256)               0         \n",
            "_________________________________________________________________\n",
            "dense_58 (Dense)             (None, 128)               32896     \n",
            "_________________________________________________________________\n",
            "dense_59 (Dense)             (None, 1)                 129       \n",
            "=================================================================\n",
            "Total params: 1,865,665\n",
            "Trainable params: 1,865,665\n",
            "Non-trainable params: 0\n",
            "_________________________________________________________________\n"
          ],
          "name": "stdout"
        }
      ]
    },
    {
      "cell_type": "code",
      "metadata": {
        "id": "j6oAmjzI3QRP",
        "colab_type": "code",
        "colab": {
          "base_uri": "https://localhost:8080/",
          "height": 972
        },
        "outputId": "05b6cb82-63eb-4507-aced-6bcb7f77cf50"
      },
      "source": [
        "#buat kelas dan fungsi callback\n",
        "class myCallback(tf.keras.callbacks.Callback):\n",
        "  def on_epoch_end(self, epoch, logs={}):\n",
        "    if(logs.get('val_accuracy')>0.85):\n",
        "      if(logs.get('accuracy')>0.85):      \n",
        "        print(\"\\nAkurasi data latih dan validation telah mencapai >85%!\")\n",
        "        self.model.stop_training = True\n",
        "callbacks = myCallback()\n",
        "\n",
        "#lakukan pelatihan model\n",
        "history = model.fit(padded_latih, y_latih, epochs=80, \n",
        "                    validation_data=(padded_val, y_val), validation_steps=20, verbose=2, callbacks=[callbacks])\n"
      ],
      "execution_count": 115,
      "outputs": [
        {
          "output_type": "stream",
          "text": [
            "Epoch 1/80\n",
            "1000/1000 - 25s - loss: 0.6931 - accuracy: 0.5061 - val_loss: 0.6911 - val_accuracy: 0.5079\n",
            "Epoch 2/80\n",
            "1000/1000 - 25s - loss: 0.6797 - accuracy: 0.5498 - val_loss: 0.6256 - val_accuracy: 0.6640\n",
            "Epoch 3/80\n",
            "1000/1000 - 25s - loss: 0.6718 - accuracy: 0.5723 - val_loss: 0.5878 - val_accuracy: 0.7239\n",
            "Epoch 4/80\n",
            "1000/1000 - 25s - loss: 0.6722 - accuracy: 0.5554 - val_loss: 0.6879 - val_accuracy: 0.5381\n",
            "Epoch 5/80\n",
            "1000/1000 - 25s - loss: 0.6804 - accuracy: 0.5410 - val_loss: 0.6309 - val_accuracy: 0.6258\n",
            "Epoch 6/80\n",
            "1000/1000 - 25s - loss: 0.6787 - accuracy: 0.5412 - val_loss: 0.7316 - val_accuracy: 0.4950\n",
            "Epoch 7/80\n",
            "1000/1000 - 24s - loss: 0.6854 - accuracy: 0.5206 - val_loss: 0.6867 - val_accuracy: 0.5194\n",
            "Epoch 8/80\n",
            "1000/1000 - 25s - loss: 0.6829 - accuracy: 0.5215 - val_loss: 0.6885 - val_accuracy: 0.5297\n",
            "Epoch 9/80\n",
            "1000/1000 - 24s - loss: 0.6832 - accuracy: 0.5388 - val_loss: 0.6841 - val_accuracy: 0.5455\n",
            "Epoch 10/80\n",
            "1000/1000 - 24s - loss: 0.6745 - accuracy: 0.5489 - val_loss: 0.5936 - val_accuracy: 0.7181\n",
            "Epoch 11/80\n",
            "1000/1000 - 24s - loss: 0.6646 - accuracy: 0.5707 - val_loss: 0.6935 - val_accuracy: 0.5065\n",
            "Epoch 12/80\n",
            "1000/1000 - 24s - loss: 0.5245 - accuracy: 0.7263 - val_loss: 0.6939 - val_accuracy: 0.5058\n",
            "Epoch 13/80\n",
            "1000/1000 - 24s - loss: 0.6346 - accuracy: 0.5964 - val_loss: 0.4245 - val_accuracy: 0.8124\n",
            "Epoch 14/80\n",
            "1000/1000 - 24s - loss: 0.4256 - accuracy: 0.8116 - val_loss: 0.4021 - val_accuracy: 0.8225\n",
            "Epoch 15/80\n",
            "1000/1000 - 24s - loss: 0.3918 - accuracy: 0.8292 - val_loss: 0.3941 - val_accuracy: 0.8269\n",
            "Epoch 16/80\n",
            "1000/1000 - 24s - loss: 0.3800 - accuracy: 0.8342 - val_loss: 0.3831 - val_accuracy: 0.8307\n",
            "Epoch 17/80\n",
            "1000/1000 - 24s - loss: 0.3718 - accuracy: 0.8379 - val_loss: 0.3809 - val_accuracy: 0.8314\n",
            "Epoch 18/80\n",
            "1000/1000 - 24s - loss: 0.3664 - accuracy: 0.8415 - val_loss: 0.3707 - val_accuracy: 0.8351\n",
            "Epoch 19/80\n",
            "1000/1000 - 24s - loss: 0.3621 - accuracy: 0.8416 - val_loss: 0.3720 - val_accuracy: 0.8399\n",
            "Epoch 20/80\n",
            "1000/1000 - 24s - loss: 0.3547 - accuracy: 0.8465 - val_loss: 0.3606 - val_accuracy: 0.8391\n",
            "Epoch 21/80\n",
            "1000/1000 - 25s - loss: 0.3488 - accuracy: 0.8501 - val_loss: 0.3576 - val_accuracy: 0.8420\n",
            "Epoch 22/80\n",
            "1000/1000 - 24s - loss: 0.3394 - accuracy: 0.8545 - val_loss: 0.3644 - val_accuracy: 0.8441\n",
            "Epoch 23/80\n",
            "1000/1000 - 24s - loss: 0.3343 - accuracy: 0.8565 - val_loss: 0.3568 - val_accuracy: 0.8432\n",
            "Epoch 24/80\n",
            "1000/1000 - 24s - loss: 0.3279 - accuracy: 0.8608 - val_loss: 0.3462 - val_accuracy: 0.8440\n",
            "Epoch 25/80\n",
            "\n",
            "Akurasi data latih dan validation telah mencapai >85%!\n",
            "1000/1000 - 24s - loss: 0.3230 - accuracy: 0.8625 - val_loss: 0.3419 - val_accuracy: 0.8509\n"
          ],
          "name": "stdout"
        }
      ]
    },
    {
      "cell_type": "code",
      "metadata": {
        "id": "fvihtU8-zApL",
        "colab_type": "code",
        "colab": {
          "base_uri": "https://localhost:8080/",
          "height": 567
        },
        "outputId": "56a72881-6b51-4050-c4b6-c1e65e39e57c"
      },
      "source": [
        "import matplotlib.pyplot as plt\n",
        "\n",
        "history_dict = history.history\n",
        "\n",
        "acc = history_dict['accuracy']\n",
        "val_acc = history_dict['val_accuracy']\n",
        "loss=history_dict['loss']\n",
        "val_loss=history_dict['val_loss']\n",
        "\n",
        "epochs = range(1, len(acc) + 1)\n",
        "\n",
        "plt.figure(figsize=(12,9))\n",
        "plt.plot(epochs, loss, 'bo', label='Training loss')\n",
        "plt.plot(epochs, val_loss, 'b', label='Validation loss')\n",
        "plt.title('Training and validation loss')\n",
        "plt.xlabel('Epochs')\n",
        "plt.ylabel('Loss')\n",
        "plt.legend()\n",
        "plt.show()"
      ],
      "execution_count": 123,
      "outputs": [
        {
          "output_type": "display_data",
          "data": {
            "image/png": "[encoded data removed]",
            "text/plain": [
              "<Figure size 864x648 with 1 Axes>"
            ]
          },
          "metadata": {
            "tags": [],
            "needs_background": "light"
          }
        }
      ]
    },
    {
      "cell_type": "code",
      "metadata": {
        "id": "gezWgRrNzerJ",
        "colab_type": "code",
        "colab": {
          "base_uri": "https://localhost:8080/",
          "height": 567
        },
        "outputId": "8b0e42a8-a313-4425-843f-5fdf0ea9d7ba"
      },
      "source": [
        "plt.figure(figsize=(12,9))\n",
        "plt.plot(epochs, acc, 'bo', label='Training acc')\n",
        "plt.plot(epochs, val_acc, 'b', label='Validation acc')\n",
        "plt.title('Training and validation accuracy')\n",
        "plt.xlabel('Epochs')\n",
        "plt.ylabel('Accuracy')\n",
        "plt.legend(loc='lower right')\n",
        "plt.ylim((0.5,1))\n",
        "plt.show()"
      ],
      "execution_count": 122,
      "outputs": [
        {
          "output_type": "display_data",
          "data": {
            "image/png": "[encoded data removed]",
            "text/plain": [
              "<Figure size 864x648 with 1 Axes>"
            ]
          },
          "metadata": {
            "tags": [],
            "needs_background": "light"
          }
        }
      ]
    }
  ]
}