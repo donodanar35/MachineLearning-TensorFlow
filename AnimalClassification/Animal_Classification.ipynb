{
  "nbformat": 4,
  "nbformat_minor": 0,
  "metadata": {
    "colab": {
      "name": "Animal_Classification.ipynb",
      "provenance": [],
      "collapsed_sections": [],
      "toc_visible": true
    },
    "kernelspec": {
      "name": "python3",
      "display_name": "Python 3"
    },
    "widgets": {
      "application/vnd.jupyter.widget-state+json": {
        "76a037cc6da745f0b047b24204d3588a": {
          "model_module": "@jupyter-widgets/controls",
          "model_name": "HBoxModel",
          "state": {
            "_view_name": "HBoxView",
            "_dom_classes": [],
            "_model_name": "HBoxModel",
            "_view_module": "@jupyter-widgets/controls",
            "_model_module_version": "1.5.0",
            "_view_count": null,
            "_view_module_version": "1.5.0",
            "box_style": "",
            "layout": "IPY_MODEL_2d3965e23ce341979a0f9dc33eefb47d",
            "_model_module": "@jupyter-widgets/controls",
            "children": [
              "IPY_MODEL_4fbd596585e240ec8bfcb516a2827657",
              "IPY_MODEL_77c7ddd1fb50496ba64fa444983b9b20"
            ]
          }
        },
        "2d3965e23ce341979a0f9dc33eefb47d": {
          "model_module": "@jupyter-widgets/base",
          "model_name": "LayoutModel",
          "state": {
            "_view_name": "LayoutView",
            "grid_template_rows": null,
            "right": null,
            "justify_content": null,
            "_view_module": "@jupyter-widgets/base",
            "overflow": null,
            "_model_module_version": "1.2.0",
            "_view_count": null,
            "flex_flow": null,
            "width": null,
            "min_width": null,
            "border": null,
            "align_items": null,
            "bottom": null,
            "_model_module": "@jupyter-widgets/base",
            "top": null,
            "grid_column": null,
            "overflow_y": null,
            "overflow_x": null,
            "grid_auto_flow": null,
            "grid_area": null,
            "grid_template_columns": null,
            "flex": null,
            "_model_name": "LayoutModel",
            "justify_items": null,
            "grid_row": null,
            "max_height": null,
            "align_content": null,
            "visibility": null,
            "align_self": null,
            "height": null,
            "min_height": null,
            "padding": null,
            "grid_auto_rows": null,
            "grid_gap": null,
            "max_width": null,
            "order": null,
            "_view_module_version": "1.2.0",
            "grid_template_areas": null,
            "object_position": null,
            "object_fit": null,
            "grid_auto_columns": null,
            "margin": null,
            "display": null,
            "left": null
          }
        },
        "4fbd596585e240ec8bfcb516a2827657": {
          "model_module": "@jupyter-widgets/controls",
          "model_name": "FloatProgressModel",
          "state": {
            "_view_name": "ProgressView",
            "style": "IPY_MODEL_ef75c10953c94275ae46bf2322a40749",
            "_dom_classes": [],
            "description": "",
            "_model_name": "FloatProgressModel",
            "bar_style": "success",
            "max": 1,
            "_view_module": "@jupyter-widgets/controls",
            "_model_module_version": "1.5.0",
            "value": 1,
            "_view_count": null,
            "_view_module_version": "1.5.0",
            "orientation": "horizontal",
            "min": 0,
            "description_tooltip": null,
            "_model_module": "@jupyter-widgets/controls",
            "layout": "IPY_MODEL_c74c1c9e02b64310b51431590eb3c343"
          }
        },
        "77c7ddd1fb50496ba64fa444983b9b20": {
          "model_module": "@jupyter-widgets/controls",
          "model_name": "HTMLModel",
          "state": {
            "_view_name": "HTMLView",
            "style": "IPY_MODEL_fe48e1dbd34c467a8b86b1af2daddbdd",
            "_dom_classes": [],
            "description": "",
            "_model_name": "HTMLModel",
            "placeholder": "​",
            "_view_module": "@jupyter-widgets/controls",
            "_model_module_version": "1.5.0",
            "value": " 11704/? [00:03&lt;00:00, 3411.92it/s]",
            "_view_count": null,
            "_view_module_version": "1.5.0",
            "description_tooltip": null,
            "_model_module": "@jupyter-widgets/controls",
            "layout": "IPY_MODEL_86fdfa61554a40059a8960a0c8583760"
          }
        },
        "ef75c10953c94275ae46bf2322a40749": {
          "model_module": "@jupyter-widgets/controls",
          "model_name": "ProgressStyleModel",
          "state": {
            "_view_name": "StyleView",
            "_model_name": "ProgressStyleModel",
            "description_width": "initial",
            "_view_module": "@jupyter-widgets/base",
            "_model_module_version": "1.5.0",
            "_view_count": null,
            "_view_module_version": "1.2.0",
            "bar_color": null,
            "_model_module": "@jupyter-widgets/controls"
          }
        },
        "c74c1c9e02b64310b51431590eb3c343": {
          "model_module": "@jupyter-widgets/base",
          "model_name": "LayoutModel",
          "state": {
            "_view_name": "LayoutView",
            "grid_template_rows": null,
            "right": null,
            "justify_content": null,
            "_view_module": "@jupyter-widgets/base",
            "overflow": null,
            "_model_module_version": "1.2.0",
            "_view_count": null,
            "flex_flow": null,
            "width": null,
            "min_width": null,
            "border": null,
            "align_items": null,
            "bottom": null,
            "_model_module": "@jupyter-widgets/base",
            "top": null,
            "grid_column": null,
            "overflow_y": null,
            "overflow_x": null,
            "grid_auto_flow": null,
            "grid_area": null,
            "grid_template_columns": null,
            "flex": null,
            "_model_name": "LayoutModel",
            "justify_items": null,
            "grid_row": null,
            "max_height": null,
            "align_content": null,
            "visibility": null,
            "align_self": null,
            "height": null,
            "min_height": null,
            "padding": null,
            "grid_auto_rows": null,
            "grid_gap": null,
            "max_width": null,
            "order": null,
            "_view_module_version": "1.2.0",
            "grid_template_areas": null,
            "object_position": null,
            "object_fit": null,
            "grid_auto_columns": null,
            "margin": null,
            "display": null,
            "left": null
          }
        },
        "fe48e1dbd34c467a8b86b1af2daddbdd": {
          "model_module": "@jupyter-widgets/controls",
          "model_name": "DescriptionStyleModel",
          "state": {
            "_view_name": "StyleView",
            "_model_name": "DescriptionStyleModel",
            "description_width": "",
            "_view_module": "@jupyter-widgets/base",
            "_model_module_version": "1.5.0",
            "_view_count": null,
            "_view_module_version": "1.2.0",
            "_model_module": "@jupyter-widgets/controls"
          }
        },
        "86fdfa61554a40059a8960a0c8583760": {
          "model_module": "@jupyter-widgets/base",
          "model_name": "LayoutModel",
          "state": {
            "_view_name": "LayoutView",
            "grid_template_rows": null,
            "right": null,
            "justify_content": null,
            "_view_module": "@jupyter-widgets/base",
            "overflow": null,
            "_model_module_version": "1.2.0",
            "_view_count": null,
            "flex_flow": null,
            "width": null,
            "min_width": null,
            "border": null,
            "align_items": null,
            "bottom": null,
            "_model_module": "@jupyter-widgets/base",
            "top": null,
            "grid_column": null,
            "overflow_y": null,
            "overflow_x": null,
            "grid_auto_flow": null,
            "grid_area": null,
            "grid_template_columns": null,
            "flex": null,
            "_model_name": "LayoutModel",
            "justify_items": null,
            "grid_row": null,
            "max_height": null,
            "align_content": null,
            "visibility": null,
            "align_self": null,
            "height": null,
            "min_height": null,
            "padding": null,
            "grid_auto_rows": null,
            "grid_gap": null,
            "max_width": null,
            "order": null,
            "_view_module_version": "1.2.0",
            "grid_template_areas": null,
            "object_position": null,
            "object_fit": null,
            "grid_auto_columns": null,
            "margin": null,
            "display": null,
            "left": null
          }
        },
        "e0b62b55e8ae40d8a20dabcbad3b80c4": {
          "model_module": "@jupyter-widgets/controls",
          "model_name": "HBoxModel",
          "state": {
            "_view_name": "HBoxView",
            "_dom_classes": [],
            "_model_name": "HBoxModel",
            "_view_module": "@jupyter-widgets/controls",
            "_model_module_version": "1.5.0",
            "_view_count": null,
            "_view_module_version": "1.5.0",
            "box_style": "",
            "layout": "IPY_MODEL_5659dbc5177a4f37b877a7b21422c436",
            "_model_module": "@jupyter-widgets/controls",
            "children": [
              "IPY_MODEL_af9324bb39e8461590c042f77fcfeb43",
              "IPY_MODEL_2d51a63b259245bb97e063bfdb6e08b0"
            ]
          }
        },
        "5659dbc5177a4f37b877a7b21422c436": {
          "model_module": "@jupyter-widgets/base",
          "model_name": "LayoutModel",
          "state": {
            "_view_name": "LayoutView",
            "grid_template_rows": null,
            "right": null,
            "justify_content": null,
            "_view_module": "@jupyter-widgets/base",
            "overflow": null,
            "_model_module_version": "1.2.0",
            "_view_count": null,
            "flex_flow": null,
            "width": null,
            "min_width": null,
            "border": null,
            "align_items": null,
            "bottom": null,
            "_model_module": "@jupyter-widgets/base",
            "top": null,
            "grid_column": null,
            "overflow_y": null,
            "overflow_x": null,
            "grid_auto_flow": null,
            "grid_area": null,
            "grid_template_columns": null,
            "flex": null,
            "_model_name": "LayoutModel",
            "justify_items": null,
            "grid_row": null,
            "max_height": null,
            "align_content": null,
            "visibility": null,
            "align_self": null,
            "height": null,
            "min_height": null,
            "padding": null,
            "grid_auto_rows": null,
            "grid_gap": null,
            "max_width": null,
            "order": null,
            "_view_module_version": "1.2.0",
            "grid_template_areas": null,
            "object_position": null,
            "object_fit": null,
            "grid_auto_columns": null,
            "margin": null,
            "display": null,
            "left": null
          }
        },
        "af9324bb39e8461590c042f77fcfeb43": {
          "model_module": "@jupyter-widgets/controls",
          "model_name": "FloatProgressModel",
          "state": {
            "_view_name": "ProgressView",
            "style": "IPY_MODEL_56a20f46c7684ab2aa2fd94cdd0cde1d",
            "_dom_classes": [],
            "description": "",
            "_model_name": "FloatProgressModel",
            "bar_style": "success",
            "max": 1,
            "_view_module": "@jupyter-widgets/controls",
            "_model_module_version": "1.5.0",
            "value": 1,
            "_view_count": null,
            "_view_module_version": "1.5.0",
            "orientation": "horizontal",
            "min": 0,
            "description_tooltip": null,
            "_model_module": "@jupyter-widgets/controls",
            "layout": "IPY_MODEL_9a649f83b44b42e29a9eed99a733b340"
          }
        },
        "2d51a63b259245bb97e063bfdb6e08b0": {
          "model_module": "@jupyter-widgets/controls",
          "model_name": "HTMLModel",
          "state": {
            "_view_name": "HTMLView",
            "style": "IPY_MODEL_243d1f83b0dc4e63ac7f1999ad60ce2c",
            "_dom_classes": [],
            "description": "",
            "_model_name": "HTMLModel",
            "placeholder": "​",
            "_view_module": "@jupyter-widgets/controls",
            "_model_module_version": "1.5.0",
            "value": " 2926/? [00:00&lt;00:00, 3112.04it/s]",
            "_view_count": null,
            "_view_module_version": "1.5.0",
            "description_tooltip": null,
            "_model_module": "@jupyter-widgets/controls",
            "layout": "IPY_MODEL_5284f15f671c4bcfacaba38a07b6d668"
          }
        },
        "56a20f46c7684ab2aa2fd94cdd0cde1d": {
          "model_module": "@jupyter-widgets/controls",
          "model_name": "ProgressStyleModel",
          "state": {
            "_view_name": "StyleView",
            "_model_name": "ProgressStyleModel",
            "description_width": "initial",
            "_view_module": "@jupyter-widgets/base",
            "_model_module_version": "1.5.0",
            "_view_count": null,
            "_view_module_version": "1.2.0",
            "bar_color": null,
            "_model_module": "@jupyter-widgets/controls"
          }
        },
        "9a649f83b44b42e29a9eed99a733b340": {
          "model_module": "@jupyter-widgets/base",
          "model_name": "LayoutModel",
          "state": {
            "_view_name": "LayoutView",
            "grid_template_rows": null,
            "right": null,
            "justify_content": null,
            "_view_module": "@jupyter-widgets/base",
            "overflow": null,
            "_model_module_version": "1.2.0",
            "_view_count": null,
            "flex_flow": null,
            "width": null,
            "min_width": null,
            "border": null,
            "align_items": null,
            "bottom": null,
            "_model_module": "@jupyter-widgets/base",
            "top": null,
            "grid_column": null,
            "overflow_y": null,
            "overflow_x": null,
            "grid_auto_flow": null,
            "grid_area": null,
            "grid_template_columns": null,
            "flex": null,
            "_model_name": "LayoutModel",
            "justify_items": null,
            "grid_row": null,
            "max_height": null,
            "align_content": null,
            "visibility": null,
            "align_self": null,
            "height": null,
            "min_height": null,
            "padding": null,
            "grid_auto_rows": null,
            "grid_gap": null,
            "max_width": null,
            "order": null,
            "_view_module_version": "1.2.0",
            "grid_template_areas": null,
            "object_position": null,
            "object_fit": null,
            "grid_auto_columns": null,
            "margin": null,
            "display": null,
            "left": null
          }
        },
        "243d1f83b0dc4e63ac7f1999ad60ce2c": {
          "model_module": "@jupyter-widgets/controls",
          "model_name": "DescriptionStyleModel",
          "state": {
            "_view_name": "StyleView",
            "_model_name": "DescriptionStyleModel",
            "description_width": "",
            "_view_module": "@jupyter-widgets/base",
            "_model_module_version": "1.5.0",
            "_view_count": null,
            "_view_module_version": "1.2.0",
            "_model_module": "@jupyter-widgets/controls"
          }
        },
        "5284f15f671c4bcfacaba38a07b6d668": {
          "model_module": "@jupyter-widgets/base",
          "model_name": "LayoutModel",
          "state": {
            "_view_name": "LayoutView",
            "grid_template_rows": null,
            "right": null,
            "justify_content": null,
            "_view_module": "@jupyter-widgets/base",
            "overflow": null,
            "_model_module_version": "1.2.0",
            "_view_count": null,
            "flex_flow": null,
            "width": null,
            "min_width": null,
            "border": null,
            "align_items": null,
            "bottom": null,
            "_model_module": "@jupyter-widgets/base",
            "top": null,
            "grid_column": null,
            "overflow_y": null,
            "overflow_x": null,
            "grid_auto_flow": null,
            "grid_area": null,
            "grid_template_columns": null,
            "flex": null,
            "_model_name": "LayoutModel",
            "justify_items": null,
            "grid_row": null,
            "max_height": null,
            "align_content": null,
            "visibility": null,
            "align_self": null,
            "height": null,
            "min_height": null,
            "padding": null,
            "grid_auto_rows": null,
            "grid_gap": null,
            "max_width": null,
            "order": null,
            "_view_module_version": "1.2.0",
            "grid_template_areas": null,
            "object_position": null,
            "object_fit": null,
            "grid_auto_columns": null,
            "margin": null,
            "display": null,
            "left": null
          }
        }
      }
    }
  },
  "cells": [
    {
      "cell_type": "code",
      "metadata": {
        "id": "WgmSdGJunLMI",
        "colab_type": "code",
        "colab": {
          "base_uri": "https://localhost:8080/",
          "height": 239
        },
        "outputId": "7bbc04f8-cb86-437e-8ab1-c0f5ebec35ff"
      },
      "source": [
        "#install library kaggle untuk download dataset\n",
        "!pip install kaggle"
      ],
      "execution_count": 1,
      "outputs": [
        {
          "output_type": "stream",
          "text": [
            "Requirement already satisfied: kaggle in /usr/local/lib/python3.6/dist-packages (1.5.6)\n",
            "Requirement already satisfied: tqdm in /usr/local/lib/python3.6/dist-packages (from kaggle) (4.41.1)\n",
            "Requirement already satisfied: python-dateutil in /usr/local/lib/python3.6/dist-packages (from kaggle) (2.8.1)\n",
            "Requirement already satisfied: certifi in /usr/local/lib/python3.6/dist-packages (from kaggle) (2020.6.20)\n",
            "Requirement already satisfied: six>=1.10 in /usr/local/lib/python3.6/dist-packages (from kaggle) (1.15.0)\n",
            "Requirement already satisfied: urllib3<1.25,>=1.21.1 in /usr/local/lib/python3.6/dist-packages (from kaggle) (1.24.3)\n",
            "Requirement already satisfied: python-slugify in /usr/local/lib/python3.6/dist-packages (from kaggle) (4.0.1)\n",
            "Requirement already satisfied: requests in /usr/local/lib/python3.6/dist-packages (from kaggle) (2.23.0)\n",
            "Requirement already satisfied: text-unidecode>=1.3 in /usr/local/lib/python3.6/dist-packages (from python-slugify->kaggle) (1.3)\n",
            "Requirement already satisfied: chardet<4,>=3.0.2 in /usr/local/lib/python3.6/dist-packages (from requests->kaggle) (3.0.4)\n",
            "Requirement already satisfied: idna<3,>=2.5 in /usr/local/lib/python3.6/dist-packages (from requests->kaggle) (2.10)\n"
          ],
          "name": "stdout"
        }
      ]
    },
    {
      "cell_type": "code",
      "metadata": {
        "id": "QV00nIRZn9LM",
        "colab_type": "code",
        "colab": {
          "base_uri": "https://localhost:8080/",
          "height": 54
        },
        "outputId": "c24cb065-99a7-4936-df15-ebfcf0bf27d2"
      },
      "source": [
        "#buat directory .kaggle\n",
        "!mkdir .kaggle\n",
        "!ls -a"
      ],
      "execution_count": 2,
      "outputs": [
        {
          "output_type": "stream",
          "text": [
            "mkdir: cannot create directory ‘.kaggle’: File exists\n",
            ".  ..  .config\tdataset  .kaggle  model.png  model.tflite  sample_data\n"
          ],
          "name": "stdout"
        }
      ]
    },
    {
      "cell_type": "code",
      "metadata": {
        "id": "mDJINVjkoAFZ",
        "colab_type": "code",
        "colab": {
          "base_uri": "https://localhost:8080/",
          "height": 35
        },
        "outputId": "fcba79f0-666d-4e33-cf3d-595e8c05e761"
      },
      "source": [
        "#buat token untuk bisa akses download dataset\n",
        "import json, os\n",
        "token = {\"username\":\"donodanar35\",\"key\":\"92c113ad1a2fdabc92ea0f3fe5666e90\"}\n",
        "\n",
        "with open('/content/.kaggle/kaggle.json', 'w') as file:\n",
        "    json.dump(token, file)\n",
        "\n",
        "!chmod 600 /content/.kaggle/kaggle.json\n",
        "!cp /content/.kaggle/kaggle.json ~/.kaggle/kaggle.json\n",
        "\n",
        "os.listdir('.kaggle/')\n",
        "!kaggle config set -n path -v{/content}"
      ],
      "execution_count": 3,
      "outputs": [
        {
          "output_type": "stream",
          "text": [
            "- path is now set to: {/content}\n"
          ],
          "name": "stdout"
        }
      ]
    },
    {
      "cell_type": "code",
      "metadata": {
        "id": "dYjpyME-oFzE",
        "colab_type": "code",
        "colab": {
          "base_uri": "https://localhost:8080/",
          "height": 35
        },
        "outputId": "daf10bac-ac50-4a09-e274-66d6b28bfe4a"
      },
      "source": [
        "#download food11-image-dataset.zip dari kaggle untuk klasifikasi keadaan tanaman tomat dengan 10 kelas\n",
        "!kaggle datasets download -d andrewmvd/animal-faces -p /tmp"
      ],
      "execution_count": 4,
      "outputs": [
        {
          "output_type": "stream",
          "text": [
            "animal-faces.zip: Skipping, found more recently modified local copy (use --force to force download)\n"
          ],
          "name": "stdout"
        }
      ]
    },
    {
      "cell_type": "code",
      "metadata": {
        "id": "dpmuFya2oTry",
        "colab_type": "code",
        "colab": {
          "base_uri": "https://localhost:8080/",
          "height": 201
        },
        "outputId": "dd7fef5f-efa7-432c-e269-20085727387c"
      },
      "source": [
        "os.listdir('/tmp')"
      ],
      "execution_count": 5,
      "outputs": [
        {
          "output_type": "execute_result",
          "data": {
            "text/plain": [
              "['__pycache__',\n",
              " 'plantvillage',\n",
              " 'PlantVillage',\n",
              " 'validation',\n",
              " 'afhq',\n",
              " 'food11-image-dataset.zip',\n",
              " 'animal-faces.zip',\n",
              " 'plantvillage-dataset.zip',\n",
              " 'evaluation',\n",
              " 'training']"
            ]
          },
          "metadata": {
            "tags": []
          },
          "execution_count": 5
        }
      ]
    },
    {
      "cell_type": "code",
      "metadata": {
        "id": "KJwclGs-o_2M",
        "colab_type": "code",
        "colab": {
          "base_uri": "https://localhost:8080/",
          "height": 201
        },
        "outputId": "29123f53-65b1-41b9-8477-554d3d1fcbdc"
      },
      "source": [
        "import zipfile,os\n",
        "local_zip = '/tmp/animal-faces.zip'\n",
        "zip_ref = zipfile.ZipFile(local_zip, 'r')\n",
        "\n",
        "#ekstra dataset file zip ke destinasi /tmp\n",
        "zip_ref.extractall('/tmp')\n",
        "zip_ref.close()\n",
        "\n",
        "os.listdir('/tmp')"
      ],
      "execution_count": 6,
      "outputs": [
        {
          "output_type": "execute_result",
          "data": {
            "text/plain": [
              "['__pycache__',\n",
              " 'plantvillage',\n",
              " 'PlantVillage',\n",
              " 'validation',\n",
              " 'afhq',\n",
              " 'food11-image-dataset.zip',\n",
              " 'animal-faces.zip',\n",
              " 'plantvillage-dataset.zip',\n",
              " 'evaluation',\n",
              " 'training']"
            ]
          },
          "metadata": {
            "tags": []
          },
          "execution_count": 6
        }
      ]
    },
    {
      "cell_type": "code",
      "metadata": {
        "id": "TMycarcJpJa7",
        "colab_type": "code",
        "colab": {
          "base_uri": "https://localhost:8080/",
          "height": 35
        },
        "outputId": "5ed4f25a-d863-4fb2-ae8c-057d38bd74d5"
      },
      "source": [
        "os.listdir('/tmp/afhq/train')"
      ],
      "execution_count": 7,
      "outputs": [
        {
          "output_type": "execute_result",
          "data": {
            "text/plain": [
              "['dog', 'cat', 'wild']"
            ]
          },
          "metadata": {
            "tags": []
          },
          "execution_count": 7
        }
      ]
    },
    {
      "cell_type": "code",
      "metadata": {
        "id": "z0nqOdWdpsxW",
        "colab_type": "code",
        "colab": {}
      },
      "source": [
        "base_dir = '/tmp/afhq'\n",
        "\n",
        "#lihat base_dir dan buat folder dataset_dir\n",
        "os.listdir(base_dir)\n",
        "dataset_dir = os.path.join(base_dir, 'train')"
      ],
      "execution_count": 8,
      "outputs": []
    },
    {
      "cell_type": "code",
      "metadata": {
        "id": "bJZ-s2YrqNQ_",
        "colab_type": "code",
        "colab": {
          "base_uri": "https://localhost:8080/",
          "height": 109
        },
        "outputId": "b6105b1d-b04e-4072-f5c3-f4dc2e995ddc"
      },
      "source": [
        "file_name = []\n",
        "tag = []\n",
        "full_path = []\n",
        "for path, subdirs, files in os.walk(dataset_dir):\n",
        "    for name in files:\n",
        "        full_path.append(os.path.join(path, name)) \n",
        "        tag.append(path.split('/')[-1])        \n",
        "        file_name.append(name)\n",
        "                         \n",
        "import pandas as pd\n",
        "df = pd.DataFrame({\"path\":full_path,'file_name':file_name,\"tag\":tag})\n",
        "df.groupby(['tag']).size()"
      ],
      "execution_count": 9,
      "outputs": [
        {
          "output_type": "execute_result",
          "data": {
            "text/plain": [
              "tag\n",
              "cat     5153\n",
              "dog     4739\n",
              "wild    4738\n",
              "dtype: int64"
            ]
          },
          "metadata": {
            "tags": []
          },
          "execution_count": 9
        }
      ]
    },
    {
      "cell_type": "code",
      "metadata": {
        "id": "rOl43bfDqST4",
        "colab_type": "code",
        "colab": {
          "base_uri": "https://localhost:8080/",
          "height": 206
        },
        "outputId": "865b365d-694e-4706-8a27-dfcd850eb3a7"
      },
      "source": [
        "df.tail(5)"
      ],
      "execution_count": 10,
      "outputs": [
        {
          "output_type": "execute_result",
          "data": {
            "text/html": [
              "<div>\n",
              "<style scoped>\n",
              "    .dataframe tbody tr th:only-of-type {\n",
              "        vertical-align: middle;\n",
              "    }\n",
              "\n",
              "    .dataframe tbody tr th {\n",
              "        vertical-align: top;\n",
              "    }\n",
              "\n",
              "    .dataframe thead th {\n",
              "        text-align: right;\n",
              "    }\n",
              "</style>\n",
              "<table border=\"1\" class=\"dataframe\">\n",
              "  <thead>\n",
              "    <tr style=\"text-align: right;\">\n",
              "      <th></th>\n",
              "      <th>path</th>\n",
              "      <th>file_name</th>\n",
              "      <th>tag</th>\n",
              "    </tr>\n",
              "  </thead>\n",
              "  <tbody>\n",
              "    <tr>\n",
              "      <th>14625</th>\n",
              "      <td>/tmp/afhq/train/wild/pixabay_wild_001172.jpg</td>\n",
              "      <td>pixabay_wild_001172.jpg</td>\n",
              "      <td>wild</td>\n",
              "    </tr>\n",
              "    <tr>\n",
              "      <th>14626</th>\n",
              "      <td>/tmp/afhq/train/wild/pixabay_wild_001150.jpg</td>\n",
              "      <td>pixabay_wild_001150.jpg</td>\n",
              "      <td>wild</td>\n",
              "    </tr>\n",
              "    <tr>\n",
              "      <th>14627</th>\n",
              "      <td>/tmp/afhq/train/wild/flickr_wild_000094.jpg</td>\n",
              "      <td>flickr_wild_000094.jpg</td>\n",
              "      <td>wild</td>\n",
              "    </tr>\n",
              "    <tr>\n",
              "      <th>14628</th>\n",
              "      <td>/tmp/afhq/train/wild/flickr_wild_001355.jpg</td>\n",
              "      <td>flickr_wild_001355.jpg</td>\n",
              "      <td>wild</td>\n",
              "    </tr>\n",
              "    <tr>\n",
              "      <th>14629</th>\n",
              "      <td>/tmp/afhq/train/wild/pixabay_wild_000207.jpg</td>\n",
              "      <td>pixabay_wild_000207.jpg</td>\n",
              "      <td>wild</td>\n",
              "    </tr>\n",
              "  </tbody>\n",
              "</table>\n",
              "</div>"
            ],
            "text/plain": [
              "                                               path  ...   tag\n",
              "14625  /tmp/afhq/train/wild/pixabay_wild_001172.jpg  ...  wild\n",
              "14626  /tmp/afhq/train/wild/pixabay_wild_001150.jpg  ...  wild\n",
              "14627   /tmp/afhq/train/wild/flickr_wild_000094.jpg  ...  wild\n",
              "14628   /tmp/afhq/train/wild/flickr_wild_001355.jpg  ...  wild\n",
              "14629  /tmp/afhq/train/wild/pixabay_wild_000207.jpg  ...  wild\n",
              "\n",
              "[5 rows x 3 columns]"
            ]
          },
          "metadata": {
            "tags": []
          },
          "execution_count": 10
        }
      ]
    },
    {
      "cell_type": "code",
      "metadata": {
        "id": "z6J_i1oqqW6l",
        "colab_type": "code",
        "colab": {
          "base_uri": "https://localhost:8080/",
          "height": 201
        },
        "outputId": "e26356db-3667-43fd-fe96-a1155c760137"
      },
      "source": [
        "df.info()"
      ],
      "execution_count": 11,
      "outputs": [
        {
          "output_type": "stream",
          "text": [
            "<class 'pandas.core.frame.DataFrame'>\n",
            "RangeIndex: 14630 entries, 0 to 14629\n",
            "Data columns (total 3 columns):\n",
            " #   Column     Non-Null Count  Dtype \n",
            "---  ------     --------------  ----- \n",
            " 0   path       14630 non-null  object\n",
            " 1   file_name  14630 non-null  object\n",
            " 2   tag        14630 non-null  object\n",
            "dtypes: object(3)\n",
            "memory usage: 343.0+ KB\n"
          ],
          "name": "stdout"
        }
      ]
    },
    {
      "cell_type": "code",
      "metadata": {
        "id": "P_f5x00Eqxa8",
        "colab_type": "code",
        "colab": {}
      },
      "source": [
        "from sklearn.model_selection import train_test_split\n",
        "X= df['path']\n",
        "y= df['tag']\n",
        "\n",
        "#bagi dataset menjadi 2 yakni dataset validation dan dataset training\n",
        "X_train, X_test, y_train, y_test = train_test_split(\n",
        "    X, y, test_size=0.20, random_state=0)"
      ],
      "execution_count": 12,
      "outputs": []
    },
    {
      "cell_type": "code",
      "metadata": {
        "id": "RsVdHFw5q_VM",
        "colab_type": "code",
        "colab": {}
      },
      "source": [
        "df_tr = pd.DataFrame({'path':X_train\n",
        "              ,'tag':y_train\n",
        "             ,'set':'train'})\n",
        "\n",
        "df_test = pd.DataFrame({'path':X_test\n",
        "              ,'tag':y_test\n",
        "             ,'set':'test'})"
      ],
      "execution_count": 13,
      "outputs": []
    },
    {
      "cell_type": "code",
      "metadata": {
        "id": "TDiIg1SRrQJj",
        "colab_type": "code",
        "colab": {
          "base_uri": "https://localhost:8080/",
          "height": 54
        },
        "outputId": "c769c7c9-62e7-432d-b0d7-543777acbc93"
      },
      "source": [
        "#cetak banyak data train dan data testing\n",
        "print('train size', len(df_tr))\n",
        "print('test size', len(df_test))"
      ],
      "execution_count": 14,
      "outputs": [
        {
          "output_type": "stream",
          "text": [
            "train size 11704\n",
            "test size 2926\n"
          ],
          "name": "stdout"
        }
      ]
    },
    {
      "cell_type": "code",
      "metadata": {
        "id": "JZWYmTOQrg8M",
        "colab_type": "code",
        "colab": {
          "base_uri": "https://localhost:8080/",
          "height": 309
        },
        "outputId": "140dcf9e-57e3-481d-ee49-505c0c3f1836"
      },
      "source": [
        "# melihat proporsi pada masing masing set apakah sudah ok atau masih ada yang ingin diubah\n",
        "df_all = df_tr.append([df_tr,df_test]).reset_index(drop=1)\\\n",
        "\n",
        "#cetak dataframe df_all gabungan dari df_tr, df_val\n",
        "print(df_all.groupby(['set','tag']).size(),'\\n')\n",
        "\n",
        "#mengecek sample data\n",
        "df_all.sample(3)"
      ],
      "execution_count": 15,
      "outputs": [
        {
          "output_type": "stream",
          "text": [
            "set    tag \n",
            "test   cat     1059\n",
            "       dog      903\n",
            "       wild     964\n",
            "train  cat     8188\n",
            "       dog     7672\n",
            "       wild    7548\n",
            "dtype: int64 \n",
            "\n"
          ],
          "name": "stdout"
        },
        {
          "output_type": "execute_result",
          "data": {
            "text/html": [
              "<div>\n",
              "<style scoped>\n",
              "    .dataframe tbody tr th:only-of-type {\n",
              "        vertical-align: middle;\n",
              "    }\n",
              "\n",
              "    .dataframe tbody tr th {\n",
              "        vertical-align: top;\n",
              "    }\n",
              "\n",
              "    .dataframe thead th {\n",
              "        text-align: right;\n",
              "    }\n",
              "</style>\n",
              "<table border=\"1\" class=\"dataframe\">\n",
              "  <thead>\n",
              "    <tr style=\"text-align: right;\">\n",
              "      <th></th>\n",
              "      <th>path</th>\n",
              "      <th>tag</th>\n",
              "      <th>set</th>\n",
              "    </tr>\n",
              "  </thead>\n",
              "  <tbody>\n",
              "    <tr>\n",
              "      <th>20209</th>\n",
              "      <td>/tmp/afhq/train/cat/pixabay_cat_002615.jpg</td>\n",
              "      <td>cat</td>\n",
              "      <td>train</td>\n",
              "    </tr>\n",
              "    <tr>\n",
              "      <th>4940</th>\n",
              "      <td>/tmp/afhq/train/wild/flickr_wild_002615.jpg</td>\n",
              "      <td>wild</td>\n",
              "      <td>train</td>\n",
              "    </tr>\n",
              "    <tr>\n",
              "      <th>25950</th>\n",
              "      <td>/tmp/afhq/train/wild/flickr_wild_000127.jpg</td>\n",
              "      <td>wild</td>\n",
              "      <td>test</td>\n",
              "    </tr>\n",
              "  </tbody>\n",
              "</table>\n",
              "</div>"
            ],
            "text/plain": [
              "                                              path   tag    set\n",
              "20209   /tmp/afhq/train/cat/pixabay_cat_002615.jpg   cat  train\n",
              "4940   /tmp/afhq/train/wild/flickr_wild_002615.jpg  wild  train\n",
              "25950  /tmp/afhq/train/wild/flickr_wild_000127.jpg  wild   test"
            ]
          },
          "metadata": {
            "tags": []
          },
          "execution_count": 15
        }
      ]
    },
    {
      "cell_type": "code",
      "metadata": {
        "id": "JpAn9pClrsTj",
        "colab_type": "code",
        "colab": {
          "base_uri": "https://localhost:8080/",
          "height": 67,
          "referenced_widgets": [
            "76a037cc6da745f0b047b24204d3588a",
            "2d3965e23ce341979a0f9dc33eefb47d",
            "4fbd596585e240ec8bfcb516a2827657",
            "77c7ddd1fb50496ba64fa444983b9b20",
            "ef75c10953c94275ae46bf2322a40749",
            "c74c1c9e02b64310b51431590eb3c343",
            "fe48e1dbd34c467a8b86b1af2daddbdd",
            "86fdfa61554a40059a8960a0c8583760"
          ]
        },
        "outputId": "3cab3010-b68a-458f-8da8-544ef7da8759"
      },
      "source": [
        "import shutil\n",
        "from tqdm.notebook import tqdm as tq\n",
        "\n",
        "datasource_path = \"tmp/afhq/train\"\n",
        "dataset_path = \"dataset/pelatihan\"\n",
        "\n",
        "for index, row in tq(df_tr.iterrows()):\n",
        "    \n",
        "    file_path = row['path']\n",
        "    if os.path.exists(file_path) == False:\n",
        "            file_path = os.path.join(datasource_path,row['tag'],row['image'].split('.')[0])            \n",
        "    \n",
        "    if os.path.exists(os.path.join(dataset_path,row['set'],row['tag'])) == False:\n",
        "        os.makedirs(os.path.join(dataset_path,row['set'],row['tag']))\n",
        "    \n",
        "    destination_file_name = file_path.split('/')[-1]\n",
        "    file_dest = os.path.join(dataset_path,row['set'],row['tag'],destination_file_name)\n",
        "    \n",
        "    if os.path.exists(file_dest) == False:\n",
        "        shutil.copy2(file_path,file_dest)"
      ],
      "execution_count": 16,
      "outputs": [
        {
          "output_type": "display_data",
          "data": {
            "application/vnd.jupyter.widget-view+json": {
              "model_id": "76a037cc6da745f0b047b24204d3588a",
              "version_minor": 0,
              "version_major": 2
            },
            "text/plain": [
              "HBox(children=(FloatProgress(value=1.0, bar_style='info', max=1.0), HTML(value='')))"
            ]
          },
          "metadata": {
            "tags": []
          }
        },
        {
          "output_type": "stream",
          "text": [
            "\n"
          ],
          "name": "stdout"
        }
      ]
    },
    {
      "cell_type": "code",
      "metadata": {
        "id": "S43_X-3Br-fo",
        "colab_type": "code",
        "colab": {
          "base_uri": "https://localhost:8080/",
          "height": 67,
          "referenced_widgets": [
            "e0b62b55e8ae40d8a20dabcbad3b80c4",
            "5659dbc5177a4f37b877a7b21422c436",
            "af9324bb39e8461590c042f77fcfeb43",
            "2d51a63b259245bb97e063bfdb6e08b0",
            "56a20f46c7684ab2aa2fd94cdd0cde1d",
            "9a649f83b44b42e29a9eed99a733b340",
            "243d1f83b0dc4e63ac7f1999ad60ce2c",
            "5284f15f671c4bcfacaba38a07b6d668"
          ]
        },
        "outputId": "3285ee01-5b86-48b6-f2a7-2416aa52e6e3"
      },
      "source": [
        "datasource_path = \"tmp/afhq/train\"\n",
        "dataset_path = \"dataset/ujicoba\"\n",
        "\n",
        "for index, row in tq(df_test.iterrows()):\n",
        "    \n",
        "    file_path = row['path']\n",
        "    if os.path.exists(file_path) == False:\n",
        "            file_path = os.path.join(datasource_path,row['tag'],row['image'].split('.')[0])            \n",
        "    \n",
        "    if os.path.exists(os.path.join(dataset_path,row['set'],row['tag'])) == False:\n",
        "        os.makedirs(os.path.join(dataset_path,row['set'],row['tag']))\n",
        "    \n",
        "    destination_file_name = file_path.split('/')[-1]\n",
        "    file_dest = os.path.join(dataset_path,row['set'],row['tag'],destination_file_name)\n",
        "    \n",
        "    if os.path.exists(file_dest) == False:\n",
        "        shutil.copy2(file_path,file_dest)"
      ],
      "execution_count": 17,
      "outputs": [
        {
          "output_type": "display_data",
          "data": {
            "application/vnd.jupyter.widget-view+json": {
              "model_id": "e0b62b55e8ae40d8a20dabcbad3b80c4",
              "version_minor": 0,
              "version_major": 2
            },
            "text/plain": [
              "HBox(children=(FloatProgress(value=1.0, bar_style='info', max=1.0), HTML(value='')))"
            ]
          },
          "metadata": {
            "tags": []
          }
        },
        {
          "output_type": "stream",
          "text": [
            "\n"
          ],
          "name": "stdout"
        }
      ]
    },
    {
      "cell_type": "code",
      "metadata": {
        "id": "M-aN-M5tHhKs",
        "colab_type": "code",
        "colab": {
          "base_uri": "https://localhost:8080/",
          "height": 35
        },
        "outputId": "d62434c7-4c8b-40a5-ce8f-c6bf68bb2f95"
      },
      "source": [
        "os.listdir('dataset/pelatihan/train')"
      ],
      "execution_count": 18,
      "outputs": [
        {
          "output_type": "execute_result",
          "data": {
            "text/plain": [
              "['dog', 'cat', 'wild']"
            ]
          },
          "metadata": {
            "tags": []
          },
          "execution_count": 18
        }
      ]
    },
    {
      "cell_type": "code",
      "metadata": {
        "id": "tlgz7aDMsLVH",
        "colab_type": "code",
        "colab": {}
      },
      "source": [
        "import tensorflow as tf\n",
        "from tensorflow.keras.optimizers import RMSprop\n",
        "from tensorflow.keras.preprocessing.image import ImageDataGenerator\n",
        "\n",
        "#buat image data generator untuk dataset training \n",
        "train_datagen = ImageDataGenerator(\n",
        "                    rescale=1./255,\n",
        "                    rotation_range=20,\n",
        "                    horizontal_flip=True,\n",
        "                    shear_range = 0.2,\n",
        "                    fill_mode = 'nearest')\n",
        "\n",
        "#buat image data generator untuk dataset testing\n",
        "test_datagen = ImageDataGenerator(\n",
        "                    rescale=1./255,\n",
        "                    rotation_range=20,\n",
        "                    horizontal_flip=True,\n",
        "                    shear_range = 0.2,\n",
        "                    fill_mode = 'nearest')"
      ],
      "execution_count": 19,
      "outputs": []
    },
    {
      "cell_type": "code",
      "metadata": {
        "id": "xqVxwgT5serD",
        "colab_type": "code",
        "colab": {
          "base_uri": "https://localhost:8080/",
          "height": 54
        },
        "outputId": "877b5bff-ca42-4c73-db06-5b2e427c8f75"
      },
      "source": [
        "train_generator = train_datagen.flow_from_directory(\n",
        "        'dataset/pelatihan/train/',  \n",
        "        target_size=(150, 150), \n",
        "        batch_size=4,\n",
        "        class_mode='categorical') #gunakan categorical untuk banyak kelas data pada dataset training\n",
        "\n",
        "validation_generator = test_datagen.flow_from_directory(\n",
        "        'dataset/ujicoba/test/', \n",
        "        target_size=(150, 150), \n",
        "        batch_size=4, \n",
        "        class_mode='categorical') #gunakan categorical untuk banyak kelas data pada dataset testing"
      ],
      "execution_count": 20,
      "outputs": [
        {
          "output_type": "stream",
          "text": [
            "Found 11704 images belonging to 3 classes.\n",
            "Found 2926 images belonging to 3 classes.\n"
          ],
          "name": "stdout"
        }
      ]
    },
    {
      "cell_type": "code",
      "metadata": {
        "id": "SZEFwtMAs-YZ",
        "colab_type": "code",
        "colab": {}
      },
      "source": [
        "#buat model sequential\n",
        "model = tf.keras.models.Sequential([\n",
        "    #buat masing-masing layer konvolusi, layer maxpooling                                    \n",
        "    tf.keras.layers.Conv2D(128, (3,3), activation='relu', input_shape=(150, 150, 3)),\n",
        "    tf.keras.layers.MaxPooling2D(2, 2),\n",
        "    tf.keras.layers.Conv2D(128, (3,3), activation='relu'),\n",
        "    tf.keras.layers.MaxPooling2D(2,2),\n",
        "    #buat hidden layer dense\n",
        "    tf.keras.layers.Dense(128, activation='relu'),\n",
        "    tf.keras.layers.Dense(128, activation='relu'),\n",
        "    #buat inputan flatten\n",
        "    tf.keras.layers.Flatten(),\n",
        "    #buat output dense dengan aktivasi softmax\n",
        "    tf.keras.layers.Dense(3, activation='softmax')\n",
        "])"
      ],
      "execution_count": 21,
      "outputs": []
    },
    {
      "cell_type": "code",
      "metadata": {
        "id": "GmF9ifjAtEEq",
        "colab_type": "code",
        "colab": {}
      },
      "source": [
        "#compile model\n",
        "model.compile(loss='categorical_crossentropy', \n",
        "              optimizer=tf.optimizers.Adam(),\n",
        "              metrics=['accuracy'])\n"
      ],
      "execution_count": 22,
      "outputs": []
    },
    {
      "cell_type": "code",
      "metadata": {
        "id": "VKYVsII6tKmX",
        "colab_type": "code",
        "colab": {
          "base_uri": "https://localhost:8080/",
          "height": 566
        },
        "outputId": "4ae1e0d7-8b6f-484a-e11a-00e6b2593d70"
      },
      "source": [
        "#buat visualisasi model\n",
        "model_visual = tf.keras.utils.plot_model(model,\n",
        "                          to_file='model.png',\n",
        "                          show_shapes=True,\n",
        "                          show_layer_names=True,\n",
        "                          rankdir='TB',\n",
        "                          expand_nested=True,\n",
        "                          dpi=55)\n",
        "model_visual"
      ],
      "execution_count": 23,
      "outputs": [
        {
          "output_type": "execute_result",
          "data": {
            "image/png": "[encoded data removed]",
            "text/plain": [
              "<IPython.core.display.Image object>"
            ]
          },
          "metadata": {
            "tags": []
          },
          "execution_count": 23
        }
      ]
    },
    {
      "cell_type": "code",
      "metadata": {
        "id": "mXzR6gBPzfXq",
        "colab_type": "code",
        "colab": {
          "base_uri": "https://localhost:8080/",
          "height": 458
        },
        "outputId": "b9c50e54-f4ab-4cd4-8348-c7f33d1d524b"
      },
      "source": [
        "model.summary()"
      ],
      "execution_count": 24,
      "outputs": [
        {
          "output_type": "stream",
          "text": [
            "Model: \"sequential\"\n",
            "_________________________________________________________________\n",
            "Layer (type)                 Output Shape              Param #   \n",
            "=================================================================\n",
            "conv2d (Conv2D)              (None, 148, 148, 128)     3584      \n",
            "_________________________________________________________________\n",
            "max_pooling2d (MaxPooling2D) (None, 74, 74, 128)       0         \n",
            "_________________________________________________________________\n",
            "conv2d_1 (Conv2D)            (None, 72, 72, 128)       147584    \n",
            "_________________________________________________________________\n",
            "max_pooling2d_1 (MaxPooling2 (None, 36, 36, 128)       0         \n",
            "_________________________________________________________________\n",
            "dense (Dense)                (None, 36, 36, 128)       16512     \n",
            "_________________________________________________________________\n",
            "dense_1 (Dense)              (None, 36, 36, 128)       16512     \n",
            "_________________________________________________________________\n",
            "flatten (Flatten)            (None, 165888)            0         \n",
            "_________________________________________________________________\n",
            "dense_2 (Dense)              (None, 3)                 497667    \n",
            "=================================================================\n",
            "Total params: 681,859\n",
            "Trainable params: 681,859\n",
            "Non-trainable params: 0\n",
            "_________________________________________________________________\n"
          ],
          "name": "stdout"
        }
      ]
    },
    {
      "cell_type": "code",
      "metadata": {
        "id": "wvMdBzT0tYZR",
        "colab_type": "code",
        "colab": {
          "base_uri": "https://localhost:8080/",
          "height": 1000
        },
        "outputId": "d4b4686d-f879-4b5b-d2ca-fc41db9dee68"
      },
      "source": [
        "#buat kelas dan fungsi callback\n",
        "class myCallback(tf.keras.callbacks.Callback):\n",
        "  def on_epoch_end(self, epoch, logs={}):\n",
        "    if(logs.get('val_accuracy')>0.92):\n",
        "      if(logs.get('accuracy')>0.92):      \n",
        "        print(\"\\nAkurasi data latih dan testing telah mencapai >92%!\")\n",
        "        self.model.stop_training = True\n",
        "callbacks = myCallback()\n",
        "\n",
        "#lakukan training data\n",
        "history = model.fit(\n",
        "   train_generator,\n",
        "   steps_per_epoch = 5, \n",
        "   epochs = 500,\n",
        "   validation_data = validation_generator, \n",
        "   validation_steps = 5,  \n",
        "   verbose = 2,\n",
        "   callbacks=[callbacks])\n",
        "\n"
      ],
      "execution_count": 25,
      "outputs": [
        {
          "output_type": "stream",
          "text": [
            "Epoch 1/500\n",
            "5/5 - 3s - loss: 2.5078 - accuracy: 0.2000 - val_loss: 1.2549 - val_accuracy: 0.2000\n",
            "Epoch 2/500\n",
            "5/5 - 3s - loss: 1.2672 - accuracy: 0.2500 - val_loss: 1.0940 - val_accuracy: 0.4500\n",
            "Epoch 3/500\n",
            "5/5 - 3s - loss: 1.1915 - accuracy: 0.4000 - val_loss: 1.0700 - val_accuracy: 0.4500\n",
            "Epoch 4/500\n",
            "5/5 - 3s - loss: 1.0601 - accuracy: 0.5500 - val_loss: 1.2765 - val_accuracy: 0.1000\n",
            "Epoch 5/500\n",
            "5/5 - 3s - loss: 1.1557 - accuracy: 0.4500 - val_loss: 1.1347 - val_accuracy: 0.3000\n",
            "Epoch 6/500\n",
            "5/5 - 3s - loss: 1.0944 - accuracy: 0.4000 - val_loss: 1.0927 - val_accuracy: 0.4000\n",
            "Epoch 7/500\n",
            "5/5 - 3s - loss: 1.1727 - accuracy: 0.3500 - val_loss: 1.1243 - val_accuracy: 0.3000\n",
            "Epoch 8/500\n",
            "5/5 - 3s - loss: 1.0955 - accuracy: 0.3500 - val_loss: 1.0895 - val_accuracy: 0.4500\n",
            "Epoch 9/500\n",
            "5/5 - 8s - loss: 1.1141 - accuracy: 0.5000 - val_loss: 1.1020 - val_accuracy: 0.2500\n",
            "Epoch 10/500\n",
            "5/5 - 7s - loss: 1.1112 - accuracy: 0.2500 - val_loss: 1.1054 - val_accuracy: 0.2000\n",
            "Epoch 11/500\n",
            "5/5 - 3s - loss: 1.1081 - accuracy: 0.3000 - val_loss: 1.0538 - val_accuracy: 0.4000\n",
            "Epoch 12/500\n",
            "5/5 - 3s - loss: 1.0779 - accuracy: 0.4500 - val_loss: 1.1265 - val_accuracy: 0.4000\n",
            "Epoch 13/500\n",
            "5/5 - 3s - loss: 1.0842 - accuracy: 0.4000 - val_loss: 1.1163 - val_accuracy: 0.3000\n",
            "Epoch 14/500\n",
            "5/5 - 3s - loss: 1.0089 - accuracy: 0.6000 - val_loss: 1.0737 - val_accuracy: 0.5000\n",
            "Epoch 15/500\n",
            "5/5 - 3s - loss: 1.0451 - accuracy: 0.4500 - val_loss: 1.0159 - val_accuracy: 0.5500\n",
            "Epoch 16/500\n",
            "5/5 - 3s - loss: 0.9833 - accuracy: 0.6000 - val_loss: 0.9518 - val_accuracy: 0.6000\n",
            "Epoch 17/500\n",
            "5/5 - 3s - loss: 0.9198 - accuracy: 0.6000 - val_loss: 1.2217 - val_accuracy: 0.3000\n",
            "Epoch 18/500\n",
            "5/5 - 3s - loss: 1.0715 - accuracy: 0.4500 - val_loss: 1.0560 - val_accuracy: 0.3500\n",
            "Epoch 19/500\n",
            "5/5 - 3s - loss: 1.0529 - accuracy: 0.5500 - val_loss: 1.2621 - val_accuracy: 0.2500\n",
            "Epoch 20/500\n",
            "5/5 - 3s - loss: 0.9740 - accuracy: 0.5000 - val_loss: 1.8703 - val_accuracy: 0.0500\n",
            "Epoch 21/500\n",
            "5/5 - 3s - loss: 1.2348 - accuracy: 0.2500 - val_loss: 1.0788 - val_accuracy: 0.4000\n",
            "Epoch 22/500\n",
            "5/5 - 3s - loss: 1.0863 - accuracy: 0.4000 - val_loss: 1.0057 - val_accuracy: 0.5000\n",
            "Epoch 23/500\n",
            "5/5 - 3s - loss: 1.0698 - accuracy: 0.4000 - val_loss: 1.0384 - val_accuracy: 0.5000\n",
            "Epoch 24/500\n",
            "5/5 - 3s - loss: 1.0344 - accuracy: 0.5000 - val_loss: 1.0317 - val_accuracy: 0.4500\n",
            "Epoch 25/500\n",
            "5/5 - 3s - loss: 1.1383 - accuracy: 0.5000 - val_loss: 1.0665 - val_accuracy: 0.4000\n",
            "Epoch 26/500\n",
            "5/5 - 3s - loss: 1.0625 - accuracy: 0.3500 - val_loss: 1.0539 - val_accuracy: 0.4500\n",
            "Epoch 27/500\n",
            "5/5 - 3s - loss: 1.0814 - accuracy: 0.3000 - val_loss: 1.2024 - val_accuracy: 0.3500\n",
            "Epoch 28/500\n",
            "5/5 - 3s - loss: 0.8767 - accuracy: 0.6000 - val_loss: 1.0449 - val_accuracy: 0.4500\n",
            "Epoch 29/500\n",
            "5/5 - 3s - loss: 1.2275 - accuracy: 0.5000 - val_loss: 1.0245 - val_accuracy: 0.3500\n",
            "Epoch 30/500\n",
            "5/5 - 3s - loss: 1.2020 - accuracy: 0.5000 - val_loss: 0.9680 - val_accuracy: 0.5500\n",
            "Epoch 31/500\n",
            "5/5 - 3s - loss: 1.0368 - accuracy: 0.4000 - val_loss: 1.0618 - val_accuracy: 0.4500\n",
            "Epoch 32/500\n",
            "5/5 - 3s - loss: 1.0001 - accuracy: 0.4500 - val_loss: 0.8667 - val_accuracy: 0.7000\n",
            "Epoch 33/500\n",
            "5/5 - 3s - loss: 0.9991 - accuracy: 0.4500 - val_loss: 0.9775 - val_accuracy: 0.5000\n",
            "Epoch 34/500\n",
            "5/5 - 3s - loss: 1.0464 - accuracy: 0.5000 - val_loss: 0.9058 - val_accuracy: 0.7000\n",
            "Epoch 35/500\n",
            "5/5 - 3s - loss: 0.9164 - accuracy: 0.6000 - val_loss: 1.1072 - val_accuracy: 0.4000\n",
            "Epoch 36/500\n",
            "5/5 - 3s - loss: 1.2082 - accuracy: 0.4000 - val_loss: 0.9785 - val_accuracy: 0.4500\n",
            "Epoch 37/500\n",
            "5/5 - 3s - loss: 1.0853 - accuracy: 0.6500 - val_loss: 1.0605 - val_accuracy: 0.3500\n",
            "Epoch 38/500\n",
            "5/5 - 3s - loss: 1.1247 - accuracy: 0.4000 - val_loss: 0.9610 - val_accuracy: 0.6000\n",
            "Epoch 39/500\n",
            "5/5 - 3s - loss: 0.9855 - accuracy: 0.6500 - val_loss: 0.9317 - val_accuracy: 0.5500\n",
            "Epoch 40/500\n",
            "5/5 - 3s - loss: 1.0923 - accuracy: 0.4500 - val_loss: 1.0718 - val_accuracy: 0.3500\n",
            "Epoch 41/500\n",
            "5/5 - 3s - loss: 1.1025 - accuracy: 0.5000 - val_loss: 1.1214 - val_accuracy: 0.3000\n",
            "Epoch 42/500\n",
            "5/5 - 3s - loss: 0.9756 - accuracy: 0.5000 - val_loss: 1.1871 - val_accuracy: 0.4000\n",
            "Epoch 43/500\n",
            "5/5 - 3s - loss: 1.0616 - accuracy: 0.4000 - val_loss: 1.0656 - val_accuracy: 0.4500\n",
            "Epoch 44/500\n",
            "5/5 - 3s - loss: 0.9881 - accuracy: 0.5000 - val_loss: 1.0863 - val_accuracy: 0.2000\n",
            "Epoch 45/500\n",
            "5/5 - 3s - loss: 1.0920 - accuracy: 0.4000 - val_loss: 1.0899 - val_accuracy: 0.3000\n",
            "Epoch 46/500\n",
            "5/5 - 3s - loss: 1.0882 - accuracy: 0.2500 - val_loss: 1.0168 - val_accuracy: 0.7000\n",
            "Epoch 47/500\n",
            "5/5 - 3s - loss: 0.9981 - accuracy: 0.4500 - val_loss: 0.9762 - val_accuracy: 0.5000\n",
            "Epoch 48/500\n",
            "5/5 - 3s - loss: 1.0937 - accuracy: 0.4000 - val_loss: 1.0001 - val_accuracy: 0.3500\n",
            "Epoch 49/500\n",
            "5/5 - 3s - loss: 1.0822 - accuracy: 0.4500 - val_loss: 1.1089 - val_accuracy: 0.4500\n",
            "Epoch 50/500\n",
            "5/5 - 3s - loss: 1.0626 - accuracy: 0.5500 - val_loss: 1.0978 - val_accuracy: 0.2000\n",
            "Epoch 51/500\n",
            "5/5 - 3s - loss: 1.0908 - accuracy: 0.4500 - val_loss: 1.1142 - val_accuracy: 0.4000\n",
            "Epoch 52/500\n",
            "5/5 - 3s - loss: 1.0939 - accuracy: 0.5000 - val_loss: 1.1036 - val_accuracy: 0.4000\n",
            "Epoch 53/500\n",
            "5/5 - 3s - loss: 1.0453 - accuracy: 0.4000 - val_loss: 1.1305 - val_accuracy: 0.4000\n",
            "Epoch 54/500\n",
            "5/5 - 3s - loss: 1.0939 - accuracy: 0.3000 - val_loss: 1.1018 - val_accuracy: 0.4000\n",
            "Epoch 55/500\n",
            "5/5 - 3s - loss: 0.9588 - accuracy: 0.5000 - val_loss: 0.8887 - val_accuracy: 0.6500\n",
            "Epoch 56/500\n",
            "5/5 - 3s - loss: 0.7822 - accuracy: 0.7500 - val_loss: 0.7899 - val_accuracy: 0.5500\n",
            "Epoch 57/500\n",
            "5/5 - 3s - loss: 0.5886 - accuracy: 0.8000 - val_loss: 1.6397 - val_accuracy: 0.4000\n",
            "Epoch 58/500\n",
            "5/5 - 3s - loss: 0.8318 - accuracy: 0.5000 - val_loss: 1.0687 - val_accuracy: 0.6000\n",
            "Epoch 59/500\n",
            "5/5 - 3s - loss: 1.1530 - accuracy: 0.5000 - val_loss: 1.2992 - val_accuracy: 0.4000\n",
            "Epoch 60/500\n",
            "5/5 - 3s - loss: 1.0832 - accuracy: 0.5500 - val_loss: 1.2556 - val_accuracy: 0.3000\n",
            "Epoch 61/500\n",
            "5/5 - 3s - loss: 0.9547 - accuracy: 0.5000 - val_loss: 0.8840 - val_accuracy: 0.6000\n",
            "Epoch 62/500\n",
            "5/5 - 3s - loss: 1.0823 - accuracy: 0.5000 - val_loss: 0.8086 - val_accuracy: 0.5500\n",
            "Epoch 63/500\n",
            "5/5 - 3s - loss: 0.9800 - accuracy: 0.5500 - val_loss: 1.0424 - val_accuracy: 0.5000\n",
            "Epoch 64/500\n",
            "5/5 - 3s - loss: 0.8620 - accuracy: 0.4500 - val_loss: 0.9830 - val_accuracy: 0.5500\n",
            "Epoch 65/500\n",
            "5/5 - 3s - loss: 0.9479 - accuracy: 0.5000 - val_loss: 1.1120 - val_accuracy: 0.4500\n",
            "Epoch 66/500\n",
            "5/5 - 3s - loss: 0.9878 - accuracy: 0.4000 - val_loss: 1.1185 - val_accuracy: 0.3500\n",
            "Epoch 67/500\n",
            "5/5 - 3s - loss: 0.8376 - accuracy: 0.7000 - val_loss: 0.9353 - val_accuracy: 0.5000\n",
            "Epoch 68/500\n",
            "5/5 - 3s - loss: 0.9470 - accuracy: 0.4000 - val_loss: 0.9256 - val_accuracy: 0.5500\n",
            "Epoch 69/500\n",
            "5/5 - 3s - loss: 0.9845 - accuracy: 0.5000 - val_loss: 1.0565 - val_accuracy: 0.5500\n",
            "Epoch 70/500\n",
            "5/5 - 3s - loss: 0.7957 - accuracy: 0.7000 - val_loss: 0.8576 - val_accuracy: 0.6000\n",
            "Epoch 71/500\n",
            "5/5 - 3s - loss: 0.9729 - accuracy: 0.5500 - val_loss: 0.7720 - val_accuracy: 0.6500\n",
            "Epoch 72/500\n",
            "5/5 - 3s - loss: 0.7774 - accuracy: 0.5000 - val_loss: 1.1916 - val_accuracy: 0.3000\n",
            "Epoch 73/500\n",
            "5/5 - 3s - loss: 1.4156 - accuracy: 0.4500 - val_loss: 0.8135 - val_accuracy: 0.6500\n",
            "Epoch 74/500\n",
            "5/5 - 3s - loss: 0.9323 - accuracy: 0.5000 - val_loss: 0.7842 - val_accuracy: 0.7500\n",
            "Epoch 75/500\n",
            "5/5 - 3s - loss: 0.9447 - accuracy: 0.6000 - val_loss: 0.8033 - val_accuracy: 0.6500\n",
            "Epoch 76/500\n",
            "5/5 - 3s - loss: 0.9558 - accuracy: 0.5500 - val_loss: 0.8699 - val_accuracy: 0.7500\n",
            "Epoch 77/500\n",
            "5/5 - 3s - loss: 1.0628 - accuracy: 0.5000 - val_loss: 0.9587 - val_accuracy: 0.6000\n",
            "Epoch 78/500\n",
            "5/5 - 3s - loss: 0.9644 - accuracy: 0.5000 - val_loss: 0.8698 - val_accuracy: 0.6500\n",
            "Epoch 79/500\n",
            "5/5 - 3s - loss: 0.7059 - accuracy: 0.6500 - val_loss: 1.0105 - val_accuracy: 0.6000\n",
            "Epoch 80/500\n",
            "5/5 - 3s - loss: 0.8287 - accuracy: 0.7000 - val_loss: 1.2135 - val_accuracy: 0.4500\n",
            "Epoch 81/500\n",
            "5/5 - 3s - loss: 0.8399 - accuracy: 0.7500 - val_loss: 0.7642 - val_accuracy: 0.6000\n",
            "Epoch 82/500\n",
            "5/5 - 3s - loss: 0.6967 - accuracy: 0.7000 - val_loss: 1.0054 - val_accuracy: 0.4000\n",
            "Epoch 83/500\n",
            "5/5 - 3s - loss: 0.9577 - accuracy: 0.4000 - val_loss: 0.8531 - val_accuracy: 0.6500\n",
            "Epoch 84/500\n",
            "5/5 - 3s - loss: 0.7764 - accuracy: 0.8000 - val_loss: 0.9181 - val_accuracy: 0.5500\n",
            "Epoch 85/500\n",
            "5/5 - 3s - loss: 0.8935 - accuracy: 0.6000 - val_loss: 0.7238 - val_accuracy: 0.7000\n",
            "Epoch 86/500\n",
            "5/5 - 3s - loss: 1.0034 - accuracy: 0.4500 - val_loss: 0.8474 - val_accuracy: 0.6000\n",
            "Epoch 87/500\n",
            "5/5 - 3s - loss: 0.8933 - accuracy: 0.5500 - val_loss: 0.8134 - val_accuracy: 0.6500\n",
            "Epoch 88/500\n",
            "5/5 - 3s - loss: 1.0255 - accuracy: 0.5000 - val_loss: 0.9408 - val_accuracy: 0.6000\n",
            "Epoch 89/500\n",
            "5/5 - 3s - loss: 0.6378 - accuracy: 0.8000 - val_loss: 0.8550 - val_accuracy: 0.6000\n",
            "Epoch 90/500\n",
            "5/5 - 3s - loss: 1.0528 - accuracy: 0.4500 - val_loss: 0.7492 - val_accuracy: 0.7000\n",
            "Epoch 91/500\n",
            "5/5 - 3s - loss: 0.8654 - accuracy: 0.5500 - val_loss: 1.3748 - val_accuracy: 0.4000\n",
            "Epoch 92/500\n",
            "5/5 - 3s - loss: 0.9037 - accuracy: 0.5000 - val_loss: 0.6675 - val_accuracy: 0.6500\n",
            "Epoch 93/500\n",
            "5/5 - 3s - loss: 1.0124 - accuracy: 0.4500 - val_loss: 0.9537 - val_accuracy: 0.4500\n",
            "Epoch 94/500\n",
            "5/5 - 3s - loss: 0.7399 - accuracy: 0.7000 - val_loss: 0.7955 - val_accuracy: 0.7500\n",
            "Epoch 95/500\n",
            "5/5 - 3s - loss: 0.8850 - accuracy: 0.5500 - val_loss: 0.6827 - val_accuracy: 0.8000\n",
            "Epoch 96/500\n",
            "5/5 - 3s - loss: 0.8327 - accuracy: 0.7000 - val_loss: 0.7619 - val_accuracy: 0.7000\n",
            "Epoch 97/500\n",
            "5/5 - 3s - loss: 0.8598 - accuracy: 0.6000 - val_loss: 0.5570 - val_accuracy: 0.8000\n",
            "Epoch 98/500\n",
            "5/5 - 3s - loss: 0.7766 - accuracy: 0.7000 - val_loss: 0.7391 - val_accuracy: 0.7000\n",
            "Epoch 99/500\n",
            "5/5 - 3s - loss: 1.2017 - accuracy: 0.4500 - val_loss: 0.8683 - val_accuracy: 0.4500\n",
            "Epoch 100/500\n",
            "5/5 - 3s - loss: 0.9931 - accuracy: 0.4000 - val_loss: 0.7255 - val_accuracy: 0.8000\n",
            "Epoch 101/500\n",
            "5/5 - 3s - loss: 0.9041 - accuracy: 0.6000 - val_loss: 0.8679 - val_accuracy: 0.6500\n",
            "Epoch 102/500\n",
            "5/5 - 3s - loss: 0.8609 - accuracy: 0.4500 - val_loss: 0.7927 - val_accuracy: 0.5500\n",
            "Epoch 103/500\n",
            "5/5 - 3s - loss: 0.9694 - accuracy: 0.5500 - val_loss: 0.9155 - val_accuracy: 0.5000\n",
            "Epoch 104/500\n",
            "5/5 - 3s - loss: 0.7369 - accuracy: 0.8000 - val_loss: 0.8763 - val_accuracy: 0.5500\n",
            "Epoch 105/500\n",
            "5/5 - 3s - loss: 0.9476 - accuracy: 0.5000 - val_loss: 0.7895 - val_accuracy: 0.8000\n",
            "Epoch 106/500\n",
            "5/5 - 3s - loss: 0.8778 - accuracy: 0.5000 - val_loss: 0.9948 - val_accuracy: 0.6000\n",
            "Epoch 107/500\n",
            "5/5 - 3s - loss: 0.9198 - accuracy: 0.5500 - val_loss: 0.7341 - val_accuracy: 0.6000\n",
            "Epoch 108/500\n",
            "5/5 - 3s - loss: 0.7379 - accuracy: 0.6000 - val_loss: 0.9190 - val_accuracy: 0.5500\n",
            "Epoch 109/500\n",
            "5/5 - 3s - loss: 0.9149 - accuracy: 0.4500 - val_loss: 0.6167 - val_accuracy: 0.6500\n",
            "Epoch 110/500\n",
            "5/5 - 3s - loss: 0.6572 - accuracy: 0.8000 - val_loss: 1.3856 - val_accuracy: 0.4000\n",
            "Epoch 111/500\n",
            "5/5 - 3s - loss: 1.0326 - accuracy: 0.5000 - val_loss: 0.4981 - val_accuracy: 0.9000\n",
            "Epoch 112/500\n",
            "5/5 - 3s - loss: 0.6445 - accuracy: 0.7000 - val_loss: 1.0199 - val_accuracy: 0.5000\n",
            "Epoch 113/500\n",
            "5/5 - 3s - loss: 0.7443 - accuracy: 0.7000 - val_loss: 1.0533 - val_accuracy: 0.5000\n",
            "Epoch 114/500\n",
            "5/5 - 3s - loss: 0.8234 - accuracy: 0.6000 - val_loss: 0.8690 - val_accuracy: 0.6000\n",
            "Epoch 115/500\n",
            "5/5 - 3s - loss: 0.9284 - accuracy: 0.6000 - val_loss: 0.7778 - val_accuracy: 0.8000\n",
            "Epoch 116/500\n",
            "5/5 - 3s - loss: 0.7853 - accuracy: 0.5500 - val_loss: 1.0471 - val_accuracy: 0.6000\n",
            "Epoch 117/500\n",
            "5/5 - 3s - loss: 1.0720 - accuracy: 0.4500 - val_loss: 0.7041 - val_accuracy: 0.7000\n",
            "Epoch 118/500\n",
            "5/5 - 3s - loss: 0.9720 - accuracy: 0.6000 - val_loss: 0.8869 - val_accuracy: 0.6000\n",
            "Epoch 119/500\n",
            "5/5 - 3s - loss: 0.8155 - accuracy: 0.6500 - val_loss: 0.8343 - val_accuracy: 0.7000\n",
            "Epoch 120/500\n",
            "5/5 - 3s - loss: 1.0663 - accuracy: 0.5000 - val_loss: 0.8812 - val_accuracy: 0.5500\n",
            "Epoch 121/500\n",
            "5/5 - 3s - loss: 0.9776 - accuracy: 0.6000 - val_loss: 0.8869 - val_accuracy: 0.6000\n",
            "Epoch 122/500\n",
            "5/5 - 3s - loss: 0.7347 - accuracy: 0.6500 - val_loss: 0.7261 - val_accuracy: 0.6500\n",
            "Epoch 123/500\n",
            "5/5 - 3s - loss: 0.8260 - accuracy: 0.6000 - val_loss: 0.9220 - val_accuracy: 0.7000\n",
            "Epoch 124/500\n",
            "5/5 - 3s - loss: 0.9043 - accuracy: 0.7500 - val_loss: 0.7401 - val_accuracy: 0.6000\n",
            "Epoch 125/500\n",
            "5/5 - 3s - loss: 0.6542 - accuracy: 0.7000 - val_loss: 0.6634 - val_accuracy: 0.8000\n",
            "Epoch 126/500\n",
            "5/5 - 3s - loss: 1.0414 - accuracy: 0.4000 - val_loss: 0.8750 - val_accuracy: 0.5500\n",
            "Epoch 127/500\n",
            "5/5 - 3s - loss: 0.7118 - accuracy: 0.6500 - val_loss: 0.6644 - val_accuracy: 0.8500\n",
            "Epoch 128/500\n",
            "5/5 - 3s - loss: 0.9210 - accuracy: 0.6500 - val_loss: 0.9217 - val_accuracy: 0.7500\n",
            "Epoch 129/500\n",
            "5/5 - 3s - loss: 0.7739 - accuracy: 0.7500 - val_loss: 0.8240 - val_accuracy: 0.7500\n",
            "Epoch 130/500\n",
            "5/5 - 3s - loss: 0.7109 - accuracy: 0.8500 - val_loss: 0.4930 - val_accuracy: 0.7500\n",
            "Epoch 131/500\n",
            "5/5 - 3s - loss: 1.0999 - accuracy: 0.5500 - val_loss: 0.8268 - val_accuracy: 0.6000\n",
            "Epoch 132/500\n",
            "5/5 - 3s - loss: 0.6363 - accuracy: 0.7000 - val_loss: 0.6439 - val_accuracy: 0.7500\n",
            "Epoch 133/500\n",
            "5/5 - 3s - loss: 0.8767 - accuracy: 0.6500 - val_loss: 0.9491 - val_accuracy: 0.6000\n",
            "Epoch 134/500\n",
            "5/5 - 3s - loss: 0.8567 - accuracy: 0.5500 - val_loss: 0.8288 - val_accuracy: 0.6000\n",
            "Epoch 135/500\n",
            "5/5 - 3s - loss: 0.6779 - accuracy: 0.8500 - val_loss: 0.8800 - val_accuracy: 0.5000\n",
            "Epoch 136/500\n",
            "5/5 - 3s - loss: 0.7900 - accuracy: 0.7000 - val_loss: 1.0820 - val_accuracy: 0.6500\n",
            "Epoch 137/500\n",
            "5/5 - 5s - loss: 0.8142 - accuracy: 0.6500 - val_loss: 1.2237 - val_accuracy: 0.5000\n",
            "Epoch 138/500\n",
            "5/5 - 3s - loss: 1.0915 - accuracy: 0.5000 - val_loss: 0.6487 - val_accuracy: 0.7500\n",
            "Epoch 139/500\n",
            "5/5 - 3s - loss: 0.7052 - accuracy: 0.7500 - val_loss: 0.9434 - val_accuracy: 0.5500\n",
            "Epoch 140/500\n",
            "5/5 - 3s - loss: 0.8155 - accuracy: 0.5500 - val_loss: 0.6711 - val_accuracy: 0.7500\n",
            "Epoch 141/500\n",
            "5/5 - 3s - loss: 0.7595 - accuracy: 0.7000 - val_loss: 0.8262 - val_accuracy: 0.6500\n",
            "Epoch 142/500\n",
            "5/5 - 3s - loss: 0.6778 - accuracy: 0.6500 - val_loss: 0.7812 - val_accuracy: 0.6500\n",
            "Epoch 143/500\n",
            "5/5 - 3s - loss: 0.9106 - accuracy: 0.6000 - val_loss: 0.7069 - val_accuracy: 0.6000\n",
            "Epoch 144/500\n",
            "5/5 - 3s - loss: 0.8196 - accuracy: 0.7500 - val_loss: 1.2947 - val_accuracy: 0.3500\n",
            "Epoch 145/500\n",
            "5/5 - 3s - loss: 0.7589 - accuracy: 0.6500 - val_loss: 0.7381 - val_accuracy: 0.7000\n",
            "Epoch 146/500\n",
            "5/5 - 3s - loss: 0.9976 - accuracy: 0.4000 - val_loss: 0.8673 - val_accuracy: 0.6000\n",
            "Epoch 147/500\n",
            "5/5 - 3s - loss: 0.8041 - accuracy: 0.5500 - val_loss: 0.8694 - val_accuracy: 0.5500\n",
            "Epoch 148/500\n",
            "5/5 - 3s - loss: 0.7744 - accuracy: 0.7000 - val_loss: 0.8298 - val_accuracy: 0.6500\n",
            "Epoch 149/500\n",
            "5/5 - 3s - loss: 0.7978 - accuracy: 0.6000 - val_loss: 0.8903 - val_accuracy: 0.5500\n",
            "Epoch 150/500\n",
            "5/5 - 3s - loss: 0.5572 - accuracy: 0.9000 - val_loss: 0.8924 - val_accuracy: 0.7500\n",
            "Epoch 151/500\n",
            "5/5 - 3s - loss: 0.7872 - accuracy: 0.6000 - val_loss: 0.7794 - val_accuracy: 0.6000\n",
            "Epoch 152/500\n",
            "5/5 - 3s - loss: 0.5147 - accuracy: 0.8500 - val_loss: 0.8066 - val_accuracy: 0.6000\n",
            "Epoch 153/500\n",
            "5/5 - 3s - loss: 1.2897 - accuracy: 0.4500 - val_loss: 0.7149 - val_accuracy: 0.6500\n",
            "Epoch 154/500\n",
            "5/5 - 3s - loss: 0.6186 - accuracy: 0.9000 - val_loss: 0.6832 - val_accuracy: 0.7000\n",
            "Epoch 155/500\n",
            "5/5 - 3s - loss: 0.6608 - accuracy: 0.8500 - val_loss: 0.8021 - val_accuracy: 0.6000\n",
            "Epoch 156/500\n",
            "5/5 - 3s - loss: 0.7985 - accuracy: 0.6500 - val_loss: 0.8274 - val_accuracy: 0.5500\n",
            "Epoch 157/500\n",
            "5/5 - 3s - loss: 0.9729 - accuracy: 0.6500 - val_loss: 0.8779 - val_accuracy: 0.7000\n",
            "Epoch 158/500\n",
            "5/5 - 3s - loss: 0.7538 - accuracy: 0.6500 - val_loss: 0.5708 - val_accuracy: 0.7500\n",
            "Epoch 159/500\n",
            "5/5 - 3s - loss: 1.0026 - accuracy: 0.5000 - val_loss: 0.8119 - val_accuracy: 0.6000\n",
            "Epoch 160/500\n",
            "5/5 - 3s - loss: 0.6735 - accuracy: 0.7500 - val_loss: 0.7218 - val_accuracy: 0.7000\n",
            "Epoch 161/500\n",
            "5/5 - 3s - loss: 0.8019 - accuracy: 0.7500 - val_loss: 0.8665 - val_accuracy: 0.5500\n",
            "Epoch 162/500\n",
            "5/5 - 3s - loss: 0.7866 - accuracy: 0.6000 - val_loss: 0.8078 - val_accuracy: 0.6000\n",
            "Epoch 163/500\n",
            "5/5 - 3s - loss: 0.7748 - accuracy: 0.6000 - val_loss: 0.6488 - val_accuracy: 0.7500\n",
            "Epoch 164/500\n",
            "5/5 - 3s - loss: 0.8830 - accuracy: 0.6000 - val_loss: 0.7802 - val_accuracy: 0.6500\n",
            "Epoch 165/500\n",
            "5/5 - 3s - loss: 0.8661 - accuracy: 0.5500 - val_loss: 0.8818 - val_accuracy: 0.6000\n",
            "Epoch 166/500\n",
            "5/5 - 3s - loss: 0.6834 - accuracy: 0.7500 - val_loss: 0.7786 - val_accuracy: 0.7500\n",
            "Epoch 167/500\n",
            "5/5 - 3s - loss: 0.9939 - accuracy: 0.6000 - val_loss: 0.7441 - val_accuracy: 0.6000\n",
            "Epoch 168/500\n",
            "5/5 - 3s - loss: 0.6046 - accuracy: 0.7500 - val_loss: 0.7557 - val_accuracy: 0.7500\n",
            "Epoch 169/500\n",
            "5/5 - 5s - loss: 0.6101 - accuracy: 0.8000 - val_loss: 0.7358 - val_accuracy: 0.6000\n",
            "Epoch 170/500\n",
            "5/5 - 5s - loss: 0.6127 - accuracy: 0.8000 - val_loss: 0.7235 - val_accuracy: 0.7000\n",
            "Epoch 171/500\n",
            "5/5 - 3s - loss: 0.7465 - accuracy: 0.6500 - val_loss: 1.2856 - val_accuracy: 0.5000\n",
            "Epoch 172/500\n",
            "5/5 - 3s - loss: 0.7368 - accuracy: 0.7500 - val_loss: 0.7848 - val_accuracy: 0.7500\n",
            "Epoch 173/500\n",
            "5/5 - 3s - loss: 0.7537 - accuracy: 0.7000 - val_loss: 0.4733 - val_accuracy: 0.8000\n",
            "Epoch 174/500\n",
            "5/5 - 3s - loss: 0.6798 - accuracy: 0.6500 - val_loss: 0.6003 - val_accuracy: 0.8000\n",
            "Epoch 175/500\n",
            "5/5 - 3s - loss: 0.8392 - accuracy: 0.6500 - val_loss: 1.1577 - val_accuracy: 0.5000\n",
            "Epoch 176/500\n",
            "5/5 - 3s - loss: 0.5323 - accuracy: 0.9000 - val_loss: 0.7177 - val_accuracy: 0.7000\n",
            "Epoch 177/500\n",
            "5/5 - 3s - loss: 0.6603 - accuracy: 0.7000 - val_loss: 0.6354 - val_accuracy: 0.7500\n",
            "Epoch 178/500\n",
            "5/5 - 3s - loss: 0.5541 - accuracy: 0.7500 - val_loss: 0.9919 - val_accuracy: 0.4500\n",
            "Epoch 179/500\n",
            "5/5 - 3s - loss: 0.8962 - accuracy: 0.5000 - val_loss: 0.7836 - val_accuracy: 0.6500\n",
            "Epoch 180/500\n",
            "5/5 - 3s - loss: 0.5093 - accuracy: 0.8000 - val_loss: 0.3392 - val_accuracy: 0.9000\n",
            "Epoch 181/500\n",
            "5/5 - 3s - loss: 0.4294 - accuracy: 0.7500 - val_loss: 4.6077 - val_accuracy: 0.5000\n",
            "Epoch 182/500\n",
            "5/5 - 3s - loss: 1.5915 - accuracy: 0.6000 - val_loss: 0.8299 - val_accuracy: 0.7000\n",
            "Epoch 183/500\n",
            "5/5 - 3s - loss: 0.7212 - accuracy: 0.7000 - val_loss: 0.7659 - val_accuracy: 0.6500\n",
            "Epoch 184/500\n",
            "5/5 - 3s - loss: 0.6368 - accuracy: 0.8000 - val_loss: 0.6773 - val_accuracy: 0.7500\n",
            "Epoch 185/500\n",
            "5/5 - 3s - loss: 1.0204 - accuracy: 0.6000 - val_loss: 0.7530 - val_accuracy: 0.6500\n",
            "Epoch 186/500\n",
            "5/5 - 3s - loss: 1.1003 - accuracy: 0.4500 - val_loss: 1.0213 - val_accuracy: 0.6000\n",
            "Epoch 187/500\n",
            "5/5 - 3s - loss: 0.7674 - accuracy: 0.5500 - val_loss: 0.9139 - val_accuracy: 0.6000\n",
            "Epoch 188/500\n",
            "5/5 - 3s - loss: 1.2011 - accuracy: 0.3500 - val_loss: 0.7504 - val_accuracy: 0.8000\n",
            "Epoch 189/500\n",
            "5/5 - 3s - loss: 0.9336 - accuracy: 0.6000 - val_loss: 0.8052 - val_accuracy: 0.6500\n",
            "Epoch 190/500\n",
            "5/5 - 3s - loss: 0.8336 - accuracy: 0.5000 - val_loss: 0.9191 - val_accuracy: 0.6000\n",
            "Epoch 191/500\n",
            "5/5 - 3s - loss: 0.7197 - accuracy: 0.6500 - val_loss: 0.8002 - val_accuracy: 0.7000\n",
            "Epoch 192/500\n",
            "5/5 - 3s - loss: 0.7273 - accuracy: 0.7500 - val_loss: 0.9330 - val_accuracy: 0.6000\n",
            "Epoch 193/500\n",
            "5/5 - 3s - loss: 0.8823 - accuracy: 0.5500 - val_loss: 0.8233 - val_accuracy: 0.6000\n",
            "Epoch 194/500\n",
            "5/5 - 3s - loss: 0.7447 - accuracy: 0.7000 - val_loss: 0.6865 - val_accuracy: 0.7500\n",
            "Epoch 195/500\n",
            "5/5 - 3s - loss: 0.6268 - accuracy: 0.8000 - val_loss: 0.6190 - val_accuracy: 0.8500\n",
            "Epoch 196/500\n",
            "5/5 - 3s - loss: 0.5396 - accuracy: 0.8000 - val_loss: 0.6968 - val_accuracy: 0.7500\n",
            "Epoch 197/500\n",
            "5/5 - 3s - loss: 0.6267 - accuracy: 0.7000 - val_loss: 0.8018 - val_accuracy: 0.6000\n",
            "Epoch 198/500\n",
            "5/5 - 3s - loss: 0.6014 - accuracy: 0.8500 - val_loss: 0.6013 - val_accuracy: 0.7500\n",
            "Epoch 199/500\n",
            "5/5 - 3s - loss: 0.4370 - accuracy: 0.9000 - val_loss: 0.4981 - val_accuracy: 0.8000\n",
            "Epoch 200/500\n",
            "5/5 - 3s - loss: 0.6036 - accuracy: 0.7500 - val_loss: 0.6989 - val_accuracy: 0.7500\n",
            "Epoch 201/500\n",
            "5/5 - 3s - loss: 0.9173 - accuracy: 0.6000 - val_loss: 0.4190 - val_accuracy: 0.8500\n",
            "Epoch 202/500\n",
            "5/5 - 3s - loss: 0.4605 - accuracy: 0.9000 - val_loss: 1.0989 - val_accuracy: 0.5000\n",
            "Epoch 203/500\n",
            "5/5 - 3s - loss: 0.8894 - accuracy: 0.7500 - val_loss: 0.9199 - val_accuracy: 0.7000\n",
            "Epoch 204/500\n",
            "5/5 - 3s - loss: 0.7349 - accuracy: 0.6500 - val_loss: 0.6412 - val_accuracy: 0.7500\n",
            "Epoch 205/500\n",
            "5/5 - 3s - loss: 0.8500 - accuracy: 0.6500 - val_loss: 0.6607 - val_accuracy: 0.7000\n",
            "Epoch 206/500\n",
            "5/5 - 3s - loss: 0.6087 - accuracy: 0.7000 - val_loss: 0.7463 - val_accuracy: 0.7000\n",
            "Epoch 207/500\n",
            "5/5 - 3s - loss: 0.6301 - accuracy: 0.7500 - val_loss: 0.8089 - val_accuracy: 0.6500\n",
            "Epoch 208/500\n",
            "5/5 - 3s - loss: 0.6583 - accuracy: 0.7000 - val_loss: 0.6813 - val_accuracy: 0.6500\n",
            "Epoch 209/500\n",
            "5/5 - 3s - loss: 0.6782 - accuracy: 0.7500 - val_loss: 0.5035 - val_accuracy: 0.8500\n",
            "Epoch 210/500\n",
            "5/5 - 3s - loss: 0.9105 - accuracy: 0.6500 - val_loss: 0.4530 - val_accuracy: 0.6500\n",
            "Epoch 211/500\n",
            "5/5 - 3s - loss: 0.4275 - accuracy: 0.9000 - val_loss: 0.7084 - val_accuracy: 0.6500\n",
            "Epoch 212/500\n",
            "5/5 - 3s - loss: 0.5398 - accuracy: 0.8000 - val_loss: 0.5038 - val_accuracy: 0.8000\n",
            "Epoch 213/500\n",
            "5/5 - 3s - loss: 0.5927 - accuracy: 0.8500 - val_loss: 0.4505 - val_accuracy: 0.9000\n",
            "Epoch 214/500\n",
            "5/5 - 3s - loss: 0.4541 - accuracy: 0.8000 - val_loss: 0.3579 - val_accuracy: 0.8500\n",
            "Epoch 215/500\n",
            "5/5 - 3s - loss: 0.4937 - accuracy: 0.8000 - val_loss: 0.5281 - val_accuracy: 0.8000\n",
            "Epoch 216/500\n",
            "5/5 - 3s - loss: 0.7596 - accuracy: 0.6500 - val_loss: 0.4464 - val_accuracy: 0.8500\n",
            "Epoch 217/500\n",
            "5/5 - 3s - loss: 1.4548 - accuracy: 0.5000 - val_loss: 0.5104 - val_accuracy: 0.7500\n",
            "Epoch 218/500\n",
            "5/5 - 3s - loss: 0.4428 - accuracy: 0.8500 - val_loss: 0.9658 - val_accuracy: 0.5000\n",
            "Epoch 219/500\n",
            "5/5 - 3s - loss: 0.8062 - accuracy: 0.7500 - val_loss: 0.9189 - val_accuracy: 0.6000\n",
            "Epoch 220/500\n",
            "5/5 - 3s - loss: 0.8555 - accuracy: 0.6500 - val_loss: 0.7935 - val_accuracy: 0.6500\n",
            "Epoch 221/500\n",
            "5/5 - 3s - loss: 0.8340 - accuracy: 0.5500 - val_loss: 0.7259 - val_accuracy: 0.7500\n",
            "Epoch 222/500\n",
            "5/5 - 3s - loss: 0.7894 - accuracy: 0.7000 - val_loss: 0.9141 - val_accuracy: 0.6000\n",
            "Epoch 223/500\n",
            "5/5 - 3s - loss: 0.5869 - accuracy: 0.8500 - val_loss: 1.0610 - val_accuracy: 0.6000\n",
            "Epoch 224/500\n",
            "5/5 - 3s - loss: 0.7570 - accuracy: 0.7000 - val_loss: 0.5479 - val_accuracy: 0.7500\n",
            "Epoch 225/500\n",
            "5/5 - 3s - loss: 0.4883 - accuracy: 0.9500 - val_loss: 0.6806 - val_accuracy: 0.8000\n",
            "Epoch 226/500\n",
            "5/5 - 3s - loss: 0.7336 - accuracy: 0.7000 - val_loss: 0.3191 - val_accuracy: 0.9000\n",
            "Epoch 227/500\n",
            "5/5 - 3s - loss: 0.5493 - accuracy: 0.8000 - val_loss: 0.7021 - val_accuracy: 0.8000\n",
            "Epoch 228/500\n",
            "5/5 - 3s - loss: 0.7879 - accuracy: 0.7000 - val_loss: 0.5603 - val_accuracy: 0.7500\n",
            "Epoch 229/500\n",
            "5/5 - 3s - loss: 0.3669 - accuracy: 0.8500 - val_loss: 0.2946 - val_accuracy: 0.9000\n",
            "Epoch 230/500\n",
            "5/5 - 3s - loss: 0.8793 - accuracy: 0.5500 - val_loss: 0.8556 - val_accuracy: 0.6000\n",
            "Epoch 231/500\n",
            "5/5 - 3s - loss: 0.6659 - accuracy: 0.7500 - val_loss: 0.4635 - val_accuracy: 0.9000\n",
            "Epoch 232/500\n",
            "5/5 - 3s - loss: 0.5875 - accuracy: 0.7000 - val_loss: 0.4883 - val_accuracy: 0.8000\n",
            "Epoch 233/500\n",
            "5/5 - 3s - loss: 0.7918 - accuracy: 0.6000 - val_loss: 0.8792 - val_accuracy: 0.6500\n",
            "Epoch 234/500\n",
            "5/5 - 3s - loss: 0.7180 - accuracy: 0.6500 - val_loss: 0.5808 - val_accuracy: 0.8500\n",
            "Epoch 235/500\n",
            "5/5 - 3s - loss: 0.5214 - accuracy: 0.8000 - val_loss: 0.9516 - val_accuracy: 0.7000\n",
            "Epoch 236/500\n",
            "5/5 - 3s - loss: 0.5929 - accuracy: 0.7000 - val_loss: 0.4574 - val_accuracy: 0.8500\n",
            "Epoch 237/500\n",
            "5/5 - 3s - loss: 0.5413 - accuracy: 0.8000 - val_loss: 0.4532 - val_accuracy: 0.8000\n",
            "Epoch 238/500\n",
            "5/5 - 3s - loss: 0.9714 - accuracy: 0.6000 - val_loss: 0.8100 - val_accuracy: 0.7000\n",
            "Epoch 239/500\n",
            "5/5 - 3s - loss: 0.2734 - accuracy: 1.0000 - val_loss: 0.3100 - val_accuracy: 0.9000\n",
            "Epoch 240/500\n",
            "5/5 - 3s - loss: 0.7080 - accuracy: 0.6500 - val_loss: 0.4390 - val_accuracy: 0.8000\n",
            "Epoch 241/500\n",
            "5/5 - 3s - loss: 0.2817 - accuracy: 0.9000 - val_loss: 0.4265 - val_accuracy: 0.8500\n",
            "Epoch 242/500\n",
            "5/5 - 3s - loss: 0.5995 - accuracy: 0.8500 - val_loss: 0.3784 - val_accuracy: 0.9000\n",
            "Epoch 243/500\n",
            "5/5 - 3s - loss: 0.4910 - accuracy: 0.8000 - val_loss: 0.3781 - val_accuracy: 0.8500\n",
            "Epoch 244/500\n",
            "5/5 - 3s - loss: 0.7247 - accuracy: 0.7000 - val_loss: 0.5455 - val_accuracy: 0.7000\n",
            "Epoch 245/500\n",
            "5/5 - 3s - loss: 0.4957 - accuracy: 0.7000 - val_loss: 0.5098 - val_accuracy: 0.8000\n",
            "Epoch 246/500\n",
            "5/5 - 3s - loss: 0.6315 - accuracy: 0.7500 - val_loss: 0.4618 - val_accuracy: 0.8000\n",
            "Epoch 247/500\n",
            "5/5 - 3s - loss: 0.2862 - accuracy: 0.9000 - val_loss: 0.5278 - val_accuracy: 0.8500\n",
            "Epoch 248/500\n",
            "5/5 - 3s - loss: 0.6006 - accuracy: 0.8000 - val_loss: 0.3152 - val_accuracy: 0.8000\n",
            "Epoch 249/500\n",
            "5/5 - 3s - loss: 0.4328 - accuracy: 0.7500 - val_loss: 0.5204 - val_accuracy: 0.7500\n",
            "Epoch 250/500\n",
            "5/5 - 3s - loss: 0.6785 - accuracy: 0.7000 - val_loss: 0.5221 - val_accuracy: 0.8500\n",
            "Epoch 251/500\n",
            "5/5 - 3s - loss: 0.6815 - accuracy: 0.6500 - val_loss: 0.2818 - val_accuracy: 0.9500\n",
            "Epoch 252/500\n",
            "5/5 - 3s - loss: 0.4475 - accuracy: 0.8500 - val_loss: 0.3649 - val_accuracy: 0.8500\n",
            "Epoch 253/500\n",
            "5/5 - 3s - loss: 0.7692 - accuracy: 0.7500 - val_loss: 0.5840 - val_accuracy: 0.7500\n",
            "Epoch 254/500\n",
            "5/5 - 3s - loss: 0.7229 - accuracy: 0.8500 - val_loss: 0.4906 - val_accuracy: 0.8500\n",
            "Epoch 255/500\n",
            "5/5 - 3s - loss: 0.3709 - accuracy: 0.9500 - val_loss: 0.6206 - val_accuracy: 0.6500\n",
            "Epoch 256/500\n",
            "5/5 - 3s - loss: 0.5631 - accuracy: 0.7500 - val_loss: 0.5778 - val_accuracy: 0.7500\n",
            "Epoch 257/500\n",
            "5/5 - 3s - loss: 0.3589 - accuracy: 0.9000 - val_loss: 0.7623 - val_accuracy: 0.7000\n",
            "Epoch 258/500\n",
            "5/5 - 3s - loss: 0.8089 - accuracy: 0.7500 - val_loss: 0.5385 - val_accuracy: 0.8000\n",
            "Epoch 259/500\n",
            "5/5 - 3s - loss: 0.6181 - accuracy: 0.7000 - val_loss: 0.5235 - val_accuracy: 0.8000\n",
            "Epoch 260/500\n",
            "5/5 - 3s - loss: 0.7252 - accuracy: 0.6000 - val_loss: 0.4931 - val_accuracy: 0.9000\n",
            "Epoch 261/500\n",
            "5/5 - 3s - loss: 0.6801 - accuracy: 0.6500 - val_loss: 1.1116 - val_accuracy: 0.6000\n",
            "Epoch 262/500\n",
            "5/5 - 3s - loss: 0.4338 - accuracy: 0.8500 - val_loss: 0.3437 - val_accuracy: 0.8500\n",
            "Epoch 263/500\n",
            "5/5 - 3s - loss: 0.6508 - accuracy: 0.6000 - val_loss: 0.6568 - val_accuracy: 0.7500\n",
            "Epoch 264/500\n",
            "5/5 - 3s - loss: 0.7350 - accuracy: 0.6500 - val_loss: 0.6328 - val_accuracy: 0.8000\n",
            "Epoch 265/500\n",
            "5/5 - 3s - loss: 1.2091 - accuracy: 0.7500 - val_loss: 0.3920 - val_accuracy: 0.8500\n",
            "Epoch 266/500\n",
            "5/5 - 3s - loss: 0.6127 - accuracy: 0.8000 - val_loss: 0.4114 - val_accuracy: 0.8500\n",
            "Epoch 267/500\n",
            "5/5 - 3s - loss: 0.2828 - accuracy: 0.8500 - val_loss: 0.4235 - val_accuracy: 0.9000\n",
            "Epoch 268/500\n",
            "5/5 - 3s - loss: 0.4020 - accuracy: 0.8500 - val_loss: 0.6498 - val_accuracy: 0.8000\n",
            "Epoch 269/500\n",
            "5/5 - 3s - loss: 0.4921 - accuracy: 0.8000 - val_loss: 0.6059 - val_accuracy: 0.8500\n",
            "Epoch 270/500\n",
            "5/5 - 3s - loss: 0.6634 - accuracy: 0.6500 - val_loss: 0.5159 - val_accuracy: 0.7500\n",
            "Epoch 271/500\n",
            "5/5 - 3s - loss: 0.5739 - accuracy: 0.8000 - val_loss: 0.5582 - val_accuracy: 0.7500\n",
            "Epoch 272/500\n",
            "5/5 - 3s - loss: 0.5774 - accuracy: 0.8000 - val_loss: 0.5540 - val_accuracy: 0.7500\n",
            "Epoch 273/500\n",
            "5/5 - 3s - loss: 0.6710 - accuracy: 0.7500 - val_loss: 0.3212 - val_accuracy: 0.9000\n",
            "Epoch 274/500\n",
            "5/5 - 3s - loss: 0.4116 - accuracy: 0.8500 - val_loss: 0.6538 - val_accuracy: 0.8000\n",
            "Epoch 275/500\n",
            "5/5 - 3s - loss: 0.5816 - accuracy: 0.7000 - val_loss: 0.4328 - val_accuracy: 0.7500\n",
            "Epoch 276/500\n",
            "5/5 - 3s - loss: 0.3290 - accuracy: 0.8500 - val_loss: 0.4867 - val_accuracy: 0.8000\n",
            "Epoch 277/500\n",
            "5/5 - 3s - loss: 0.5279 - accuracy: 0.9000 - val_loss: 0.4407 - val_accuracy: 0.8500\n",
            "Epoch 278/500\n",
            "5/5 - 3s - loss: 0.3257 - accuracy: 0.8500 - val_loss: 0.7526 - val_accuracy: 0.7000\n",
            "Epoch 279/500\n",
            "5/5 - 3s - loss: 0.2989 - accuracy: 0.8500 - val_loss: 0.6196 - val_accuracy: 0.8000\n",
            "Epoch 280/500\n",
            "5/5 - 3s - loss: 0.9392 - accuracy: 0.7500 - val_loss: 0.4801 - val_accuracy: 0.8000\n",
            "Epoch 281/500\n",
            "5/5 - 3s - loss: 0.5806 - accuracy: 0.8000 - val_loss: 0.3425 - val_accuracy: 0.9000\n",
            "Epoch 282/500\n",
            "5/5 - 3s - loss: 0.4429 - accuracy: 0.8000 - val_loss: 0.5527 - val_accuracy: 0.8000\n",
            "Epoch 283/500\n",
            "5/5 - 3s - loss: 0.3858 - accuracy: 0.8000 - val_loss: 0.8131 - val_accuracy: 0.7500\n",
            "Epoch 284/500\n",
            "5/5 - 3s - loss: 0.5984 - accuracy: 0.7000 - val_loss: 0.8035 - val_accuracy: 0.6500\n",
            "Epoch 285/500\n",
            "5/5 - 3s - loss: 0.5682 - accuracy: 0.8000 - val_loss: 0.6399 - val_accuracy: 0.8000\n",
            "Epoch 286/500\n",
            "5/5 - 3s - loss: 0.4577 - accuracy: 0.8500 - val_loss: 0.2596 - val_accuracy: 0.9000\n",
            "Epoch 287/500\n",
            "5/5 - 3s - loss: 0.2557 - accuracy: 0.9000 - val_loss: 1.0637 - val_accuracy: 0.5500\n",
            "Epoch 288/500\n",
            "5/5 - 3s - loss: 0.3626 - accuracy: 0.9000 - val_loss: 0.4352 - val_accuracy: 0.9000\n",
            "Epoch 289/500\n",
            "5/5 - 3s - loss: 0.5056 - accuracy: 0.7000 - val_loss: 0.5317 - val_accuracy: 0.7500\n",
            "Epoch 290/500\n",
            "5/5 - 3s - loss: 0.5176 - accuracy: 0.7500 - val_loss: 0.6332 - val_accuracy: 0.8000\n",
            "Epoch 291/500\n",
            "5/5 - 3s - loss: 0.3419 - accuracy: 0.9000 - val_loss: 0.2304 - val_accuracy: 0.9500\n",
            "Epoch 292/500\n",
            "5/5 - 3s - loss: 0.3814 - accuracy: 0.9000 - val_loss: 0.6478 - val_accuracy: 0.7500\n",
            "Epoch 293/500\n",
            "5/5 - 3s - loss: 0.8984 - accuracy: 0.6500 - val_loss: 0.5504 - val_accuracy: 0.8500\n",
            "Epoch 294/500\n",
            "5/5 - 3s - loss: 0.5978 - accuracy: 0.7000 - val_loss: 0.8330 - val_accuracy: 0.6500\n",
            "Epoch 295/500\n",
            "5/5 - 3s - loss: 0.3501 - accuracy: 0.8500 - val_loss: 0.4638 - val_accuracy: 0.8500\n",
            "Epoch 296/500\n",
            "5/5 - 3s - loss: 0.2689 - accuracy: 0.9000 - val_loss: 0.2776 - val_accuracy: 0.9000\n",
            "Epoch 297/500\n",
            "5/5 - 3s - loss: 0.6213 - accuracy: 0.7000 - val_loss: 1.2028 - val_accuracy: 0.5500\n",
            "Epoch 298/500\n",
            "5/5 - 3s - loss: 0.6697 - accuracy: 0.7000 - val_loss: 0.7386 - val_accuracy: 0.8000\n",
            "Epoch 299/500\n",
            "5/5 - 3s - loss: 0.5451 - accuracy: 0.7500 - val_loss: 0.4099 - val_accuracy: 0.8000\n",
            "Epoch 300/500\n",
            "5/5 - 3s - loss: 0.3765 - accuracy: 0.8500 - val_loss: 0.4667 - val_accuracy: 0.8000\n",
            "Epoch 301/500\n",
            "5/5 - 3s - loss: 0.1884 - accuracy: 0.9000 - val_loss: 0.4260 - val_accuracy: 0.8500\n",
            "Epoch 302/500\n",
            "5/5 - 3s - loss: 0.7678 - accuracy: 0.8000 - val_loss: 0.5003 - val_accuracy: 0.8500\n",
            "Epoch 303/500\n",
            "5/5 - 3s - loss: 0.5277 - accuracy: 0.7500 - val_loss: 0.2280 - val_accuracy: 0.9000\n",
            "Epoch 304/500\n",
            "5/5 - 3s - loss: 0.7475 - accuracy: 0.8000 - val_loss: 0.6017 - val_accuracy: 0.7500\n",
            "Epoch 305/500\n",
            "5/5 - 3s - loss: 0.3074 - accuracy: 0.8500 - val_loss: 0.3874 - val_accuracy: 0.8000\n",
            "Epoch 306/500\n",
            "5/5 - 3s - loss: 0.6439 - accuracy: 0.7500 - val_loss: 0.5192 - val_accuracy: 0.8000\n",
            "Epoch 307/500\n",
            "5/5 - 3s - loss: 0.5307 - accuracy: 0.8500 - val_loss: 0.3021 - val_accuracy: 0.9000\n",
            "Epoch 308/500\n",
            "5/5 - 3s - loss: 0.6829 - accuracy: 0.7000 - val_loss: 0.6408 - val_accuracy: 0.7500\n",
            "Epoch 309/500\n",
            "5/5 - 3s - loss: 0.7175 - accuracy: 0.6500 - val_loss: 0.4655 - val_accuracy: 0.8500\n",
            "Epoch 310/500\n",
            "5/5 - 3s - loss: 0.6160 - accuracy: 0.7500 - val_loss: 0.4407 - val_accuracy: 0.8500\n",
            "Epoch 311/500\n",
            "5/5 - 3s - loss: 0.5472 - accuracy: 0.7500 - val_loss: 0.4502 - val_accuracy: 0.8500\n",
            "Epoch 312/500\n",
            "5/5 - 3s - loss: 0.3200 - accuracy: 0.9000 - val_loss: 0.3429 - val_accuracy: 0.9000\n",
            "Epoch 313/500\n",
            "5/5 - 3s - loss: 0.5096 - accuracy: 0.8500 - val_loss: 0.2378 - val_accuracy: 0.8500\n",
            "Epoch 314/500\n",
            "5/5 - 3s - loss: 0.8953 - accuracy: 0.5500 - val_loss: 0.7198 - val_accuracy: 0.6000\n",
            "Epoch 315/500\n",
            "5/5 - 3s - loss: 0.7068 - accuracy: 0.7000 - val_loss: 0.4594 - val_accuracy: 0.8000\n",
            "Epoch 316/500\n",
            "5/5 - 3s - loss: 0.5102 - accuracy: 0.8000 - val_loss: 0.6959 - val_accuracy: 0.6500\n",
            "Epoch 317/500\n",
            "5/5 - 3s - loss: 0.9266 - accuracy: 0.7500 - val_loss: 0.5202 - val_accuracy: 0.8000\n",
            "Epoch 318/500\n",
            "5/5 - 3s - loss: 0.6143 - accuracy: 0.8500 - val_loss: 0.4365 - val_accuracy: 0.9000\n",
            "Epoch 319/500\n",
            "5/5 - 3s - loss: 0.5508 - accuracy: 0.8500 - val_loss: 0.3330 - val_accuracy: 0.9000\n",
            "Epoch 320/500\n",
            "5/5 - 3s - loss: 0.5888 - accuracy: 0.7500 - val_loss: 0.3866 - val_accuracy: 0.8000\n",
            "Epoch 321/500\n",
            "5/5 - 3s - loss: 0.4234 - accuracy: 0.8500 - val_loss: 0.4854 - val_accuracy: 0.8500\n",
            "Epoch 322/500\n",
            "5/5 - 3s - loss: 0.3987 - accuracy: 0.8000 - val_loss: 0.5807 - val_accuracy: 0.8000\n",
            "Epoch 323/500\n",
            "5/5 - 3s - loss: 0.4231 - accuracy: 0.8500 - val_loss: 0.3014 - val_accuracy: 0.9500\n",
            "Epoch 324/500\n",
            "5/5 - 3s - loss: 0.1929 - accuracy: 0.9000 - val_loss: 0.2757 - val_accuracy: 0.8500\n",
            "Epoch 325/500\n",
            "5/5 - 3s - loss: 0.3671 - accuracy: 0.8500 - val_loss: 0.5323 - val_accuracy: 0.8500\n",
            "Epoch 326/500\n",
            "\n",
            "Akurasi data latih dan testing telah mencapai >92%!\n",
            "5/5 - 3s - loss: 0.1713 - accuracy: 0.9500 - val_loss: 0.2537 - val_accuracy: 0.9500\n"
          ],
          "name": "stdout"
        }
      ]
    },
    {
      "cell_type": "code",
      "metadata": {
        "id": "_n58Ajwn4x2c",
        "colab_type": "code",
        "colab": {
          "base_uri": "https://localhost:8080/",
          "height": 567
        },
        "outputId": "0f609f4f-88e1-4443-f589-f264211a1e4c"
      },
      "source": [
        "import matplotlib.pyplot as plt\n",
        "\n",
        "history_dict = history.history\n",
        "\n",
        "acc = history_dict['accuracy']\n",
        "val_acc = history_dict['val_accuracy']\n",
        "loss=history_dict['loss']\n",
        "val_loss=history_dict['val_loss']\n",
        "\n",
        "epochs = range(1, len(acc) + 1)\n",
        "\n",
        "plt.figure(figsize=(12,9))\n",
        "plt.plot(epochs, loss, 'bo', label='Training loss')\n",
        "plt.plot(epochs, val_loss, 'b', label='Validation loss')\n",
        "plt.title('Training and validation loss')\n",
        "plt.xlabel('Epochs')\n",
        "plt.ylabel('Loss')\n",
        "plt.legend()\n",
        "plt.show()"
      ],
      "execution_count": 26,
      "outputs": [
        {
          "output_type": "display_data",
          "data": {
            "image/png": "[encoded data removed]",
            "text/plain": [
              "<Figure size 864x648 with 1 Axes>"
            ]
          },
          "metadata": {
            "tags": [],
            "needs_background": "light"
          }
        }
      ]
    },
    {
      "cell_type": "code",
      "metadata": {
        "id": "9RyjTPis411t",
        "colab_type": "code",
        "colab": {
          "base_uri": "https://localhost:8080/",
          "height": 567
        },
        "outputId": "f3570f75-d8d0-4773-d058-54569d4f844e"
      },
      "source": [
        "plt.figure(figsize=(12,9))\n",
        "plt.plot(epochs, acc, 'bo', label='Training acc')\n",
        "plt.plot(epochs, val_acc, 'b', label='Validation acc')\n",
        "plt.title('Training and validation accuracy')\n",
        "plt.xlabel('Epochs')\n",
        "plt.ylabel('Accuracy')\n",
        "plt.legend(loc='lower right')\n",
        "plt.ylim((0.5,1))\n",
        "plt.show()"
      ],
      "execution_count": 27,
      "outputs": [
        {
          "output_type": "display_data",
          "data": {
            "image/png": "[encoded data removed]",
            "text/plain": [
              "<Figure size 864x648 with 1 Axes>"
            ]
          },
          "metadata": {
            "tags": [],
            "needs_background": "light"
          }
        }
      ]
    },
    {
      "cell_type": "code",
      "metadata": {
        "id": "RLRzsiHhT8Zn",
        "colab_type": "code",
        "colab": {
          "base_uri": "https://localhost:8080/",
          "height": 54
        },
        "outputId": "8d52b76a-c907-4555-de7c-31aacea66d54"
      },
      "source": [
        "converter = tf.lite.TFLiteConverter.from_keras_model(model)\n",
        "tflite_model = converter.convert()\n",
        "\n",
        "with tf.io.gfile.GFile('model.tflite', 'wb') as f:\n",
        "  f.write(tflite_model)"
      ],
      "execution_count": 29,
      "outputs": [
        {
          "output_type": "stream",
          "text": [
            "INFO:tensorflow:Assets written to: /tmp/tmpdfx36zbe/assets\n"
          ],
          "name": "stdout"
        },
        {
          "output_type": "stream",
          "text": [
            "INFO:tensorflow:Assets written to: /tmp/tmpdfx36zbe/assets\n"
          ],
          "name": "stderr"
        }
      ]
    }
  ]
}